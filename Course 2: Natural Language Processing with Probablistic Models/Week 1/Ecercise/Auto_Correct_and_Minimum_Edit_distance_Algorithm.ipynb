{
  "cells": [
    {
      "cell_type": "markdown",
      "metadata": {
        "id": "ue-zJjUC8ywY"
      },
      "source": [
        "# **Auto-Correct Algorithm**\n",
        " **We’ll implement the four steps of the auto-correct algorithm:**\n",
        "\n",
        "1. **Check if a word is misspelled.**\n",
        "2. **Generate words within a certain edit distance.**\n",
        "3. **Filter valid candidates from vocabulary.**\n",
        "4. **Find the most probable candidate.**"
      ]
    },
    {
      "cell_type": "code",
      "execution_count": 79,
      "metadata": {
        "id": "AOHCKhI28xwn"
      },
      "outputs": [],
      "source": [
        "import re\n",
        "from collections import Counter"
      ]
    },
    {
      "cell_type": "code",
      "execution_count": 80,
      "metadata": {
        "id": "UVaQ2ZCR9GYL"
      },
      "outputs": [
        {
          "data": {
            "text/plain": [
              "{'bat', 'cat', 'mat', 'rat'}"
            ]
          },
          "execution_count": 80,
          "metadata": {},
          "output_type": "execute_result"
        }
      ],
      "source": [
        "corpus = \"cat bat cat mat cat rat bat cat\" # Corpus: dummy to auto correct word \"cat\"\n",
        "vocabulary = set(corpus.split()) # Vocabulary: Unique values from corpus\n",
        "vocabulary"
      ]
    },
    {
      "cell_type": "code",
      "execution_count": 81,
      "metadata": {},
      "outputs": [
        {
          "data": {
            "text/plain": [
              "8"
            ]
          },
          "execution_count": 81,
          "metadata": {},
          "output_type": "execute_result"
        }
      ],
      "source": [
        "word_counts = Counter(corpus.split()) # Word Count of Each word in corpus\n",
        "total_words = sum(word_counts.values()) # Total Number of Words\n",
        "total_words"
      ]
    },
    {
      "cell_type": "code",
      "execution_count": 82,
      "metadata": {},
      "outputs": [],
      "source": [
        "# Below in the loop the variable is taking word and its count form the variable total_words and calculating probablity of each word using:\n",
        "# P(W) = Word / sum of all count\n",
        "# word = {'bat', 'cat', 'mat', 'rat'}, count = {1, 2, 4}\n",
        "\n",
        "word_probalities = {word: count/total_words for word, count in word_counts.items()}"
      ]
    },
    {
      "cell_type": "code",
      "execution_count": 83,
      "metadata": {},
      "outputs": [],
      "source": [
        "# Step 1: Check if a word is misspelled, means not in vocabulary of a particular word(cat)\n",
        "def is_misspelled(word):\n",
        "    return word not in vocabulary"
      ]
    },
    {
      "cell_type": "code",
      "execution_count": 84,
      "metadata": {},
      "outputs": [],
      "source": [
        "# Step 2: Generate words within 1 edit distance\n",
        "def edit_distance_one(word):\n",
        "    letters = 'abcdefghijklmnopqrstuvwxyz'\n",
        "    splits = [(word[:i], word[i:]) for i in range(len(word)+1)]\n",
        "    \n",
        "    inserts = [L + c + R for L, R in splits for c in letters]\n",
        "    deletes = [L + R[1:] for L, R in splits if R]\n",
        "    substitutes = [L + c + R[1:] for L, R in splits if R for c in letters]\n",
        "    swaps = [L + R[1] + R[0] + R[2:] for L, R in splits if len(R) > 1]\n",
        "    \n",
        "    return set(inserts + deletes + substitutes + swaps)"
      ]
    },
    {
      "cell_type": "code",
      "execution_count": 85,
      "metadata": {},
      "outputs": [],
      "source": [
        "# Step 3: Filter valid candidates\n",
        "def valid_candidates(candidates):\n",
        "    return [word for word in candidates if word in vocabulary]"
      ]
    },
    {
      "cell_type": "code",
      "execution_count": 86,
      "metadata": {},
      "outputs": [],
      "source": [
        "# Step 4: Choose the most probable word\n",
        "def most_probable_word(candidates):\n",
        "    if not candidates:\n",
        "        return None\n",
        "    return max(candidates, key=lambda word: word_probalities.get(word, 0))"
      ]
    },
    {
      "cell_type": "code",
      "execution_count": 87,
      "metadata": {},
      "outputs": [],
      "source": [
        "# Full auto-correct function\n",
        "def auto_correct(word):\n",
        "    if not is_misspelled(word):\n",
        "        return word  # Already correct\n",
        "    candidates = edit_distance_one(word)\n",
        "    valid_words = valid_candidates(candidates)\n",
        "    return most_probable_word(valid_words) or word  # Return original word if no valid candidates"
      ]
    },
    {
      "cell_type": "code",
      "execution_count": 88,
      "metadata": {},
      "outputs": [
        {
          "name": "stdout",
          "output_type": "stream",
          "text": [
            "Original: cet, Corrected: cat\n"
          ]
        }
      ],
      "source": [
        "misspelled_word = \"cet\"\n",
        "corrected_word = auto_correct(misspelled_word)\n",
        "print(f\"Original: {misspelled_word}, Corrected: {corrected_word}\")"
      ]
    },
    {
      "cell_type": "markdown",
      "metadata": {},
      "source": [
        "## Libraries for Auto-Correct"
      ]
    },
    {
      "cell_type": "code",
      "execution_count": 89,
      "metadata": {},
      "outputs": [
        {
          "name": "stdout",
          "output_type": "stream",
          "text": [
            "Corrected: cet\n"
          ]
        }
      ],
      "source": [
        "from textblob import Word\n",
        "\n",
        "word = Word(\"cet\")\n",
        "corrected_word = word.correct()\n",
        "print(f\"Corrected: {corrected_word}\")"
      ]
    },
    {
      "cell_type": "code",
      "execution_count": 90,
      "metadata": {},
      "outputs": [
        {
          "name": "stdout",
          "output_type": "stream",
          "text": [
            "Corrected: cat\n"
          ]
        }
      ],
      "source": [
        "from spellchecker import SpellChecker\n",
        "\n",
        "spell = SpellChecker()\n",
        "misspelled_word = \"caet\"\n",
        "corrected_word = spell.correction(misspelled_word)\n",
        "print(f\"Corrected: {corrected_word}\")"
      ]
    },
    {
      "cell_type": "markdown",
      "metadata": {},
      "source": [
        "- Find Candidates:"
      ]
    },
    {
      "cell_type": "code",
      "execution_count": 91,
      "metadata": {},
      "outputs": [
        {
          "name": "stdout",
          "output_type": "stream",
          "text": [
            "Candidates: {'cast', 'cadet', 'caen', 'cart', 'cate', 'cat', 'capt', 'capet', 'cant', 'caret', 'catt'}\n"
          ]
        }
      ],
      "source": [
        "candidates = spell.candidates(misspelled_word)\n",
        "print(f\"Candidates: {candidates}\")"
      ]
    },
    {
      "cell_type": "code",
      "execution_count": 92,
      "metadata": {},
      "outputs": [
        {
          "name": "stdout",
          "output_type": "stream",
          "text": [
            "Best match: cat\n"
          ]
        }
      ],
      "source": [
        "from fuzzywuzzy import process\n",
        "\n",
        "word = \"cst\"\n",
        "choices = [\"cat\", \"bat\", \"mat\", \"rat\"]\n",
        "best_match = process.extractOne(word, choices)\n",
        "print(f\"Best match: {best_match[0]}\")"
      ]
    },
    {
      "cell_type": "markdown",
      "metadata": {},
      "source": [
        "# Minimum Edit Distance"
      ]
    },
    {
      "cell_type": "code",
      "execution_count": 93,
      "metadata": {},
      "outputs": [
        {
          "data": {
            "text/plain": [
              "[[0, 0, 0, 0], [0, 0, 0, 0], [0, 0, 0, 0], [0, 0, 0, 0]]"
            ]
          },
          "execution_count": 93,
          "metadata": {},
          "output_type": "execute_result"
        }
      ],
      "source": [
        "source_word = \"cat\"\n",
        "target_word = \"bat\"\n",
        "rows, cols = len(source_word) + 1, len(target_word) + 1\n",
        "dp = [[0] * cols for _ in range(rows)]\n",
        "dp"
      ]
    },
    {
      "cell_type": "code",
      "execution_count": 94,
      "metadata": {},
      "outputs": [],
      "source": [
        "for i in range(rows):\n",
        "    dp[i][0] = i\n",
        "for j in range(cols):\n",
        "    dp[0][j] = j\n"
      ]
    },
    {
      "cell_type": "code",
      "execution_count": 72,
      "metadata": {},
      "outputs": [
        {
          "data": {
            "text/plain": [
              "[[0, 1, 2, 3], [1, 0, 0, 0], [2, 0, 0, 0], [3, 0, 0, 0]]"
            ]
          },
          "execution_count": 72,
          "metadata": {},
          "output_type": "execute_result"
        }
      ],
      "source": [
        "dp"
      ]
    },
    {
      "cell_type": "code",
      "execution_count": 95,
      "metadata": {},
      "outputs": [],
      "source": [
        "def minimum_edit_distance(source, target):\n",
        "    # Create DP table\n",
        "    rows, cols = len(source) + 1, len(target) + 1\n",
        "    dp = [[0] * cols for _ in range(rows)]\n",
        "\n",
        "    # Initialize base cases\n",
        "    for i in range(rows):\n",
        "        dp[i][0] = i  # Cost of deleting all characters\n",
        "    for j in range(cols):\n",
        "        dp[0][j] = j  # Cost of inserting all characters\n",
        "\n",
        "    # Fill the DP table\n",
        "    for i in range(1, rows):\n",
        "        for j in range(1, cols):\n",
        "            if source[i - 1] == target[j - 1]:  # Characters match\n",
        "                dp[i][j] = dp[i - 1][j - 1]  # No cost\n",
        "            else:\n",
        "                insert = dp[i][j - 1] + 1\n",
        "                delete = dp[i - 1][j] + 1\n",
        "                substitute = dp[i - 1][j - 1] + 1\n",
        "                dp[i][j] = min(insert, delete, substitute)\n",
        "\n",
        "    # Final result is in the bottom-right cell\n",
        "    return dp[-1][-1]"
      ]
    },
    {
      "cell_type": "code",
      "execution_count": 96,
      "metadata": {},
      "outputs": [
        {
          "name": "stdout",
          "output_type": "stream",
          "text": [
            "Minimum edit distance between 'cat' and 'bat': 1\n"
          ]
        }
      ],
      "source": [
        "# Test\n",
        "source_word = \"cat\"\n",
        "target_word = \"bat\"\n",
        "edit_distance = minimum_edit_distance(source_word, target_word)\n",
        "print(f\"Minimum edit distance between '{source_word}' and '{target_word}': {edit_distance}\")"
      ]
    },
    {
      "cell_type": "markdown",
      "metadata": {},
      "source": [
        "## Libraries for Minimum Edit Distance"
      ]
    },
    {
      "cell_type": "markdown",
      "metadata": {},
      "source": [
        "### 1. nltk\n",
        "Description: A robust library for NLP with capabilities for stemming, lemmatization, and edit distance.\n",
        "Features:\n",
        "- Includes an implementation of Levenshtein distance for minimum edit distance calculations.\n"
      ]
    },
    {
      "cell_type": "code",
      "execution_count": 97,
      "metadata": {},
      "outputs": [
        {
          "name": "stdout",
          "output_type": "stream",
          "text": [
            "Edit Distance: 1\n"
          ]
        }
      ],
      "source": [
        "import nltk\n",
        "from nltk.metrics import edit_distance\n",
        "\n",
        "source_word = \"cat\"\n",
        "target_word = \"bat\"\n",
        "distance = edit_distance(source_word, target_word)\n",
        "print(f\"Edit Distance: {distance}\")"
      ]
    }
  ],
  "metadata": {
    "colab": {
      "provenance": []
    },
    "kernelspec": {
      "display_name": "Python 3",
      "name": "python3"
    },
    "language_info": {
      "codemirror_mode": {
        "name": "ipython",
        "version": 3
      },
      "file_extension": ".py",
      "mimetype": "text/x-python",
      "name": "python",
      "nbconvert_exporter": "python",
      "pygments_lexer": "ipython3",
      "version": "3.12.7"
    }
  },
  "nbformat": 4,
  "nbformat_minor": 0
}
