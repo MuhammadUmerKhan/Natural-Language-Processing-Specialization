{
  "cells": [
    {
      "cell_type": "code",
      "execution_count": 32,
      "metadata": {
        "colab": {
          "base_uri": "https://localhost:8080/"
        },
        "id": "T3TRa9LYlcOz",
        "outputId": "962aa59a-cc86-494b-8ccf-f068346c9e33"
      },
      "outputs": [
        {
          "output_type": "stream",
          "name": "stderr",
          "text": [
            "[nltk_data] Downloading package punkt to /root/nltk_data...\n",
            "[nltk_data]   Unzipping tokenizers/punkt.zip.\n"
          ]
        }
      ],
      "source": [
        "from sklearn.feature_extraction.text import CountVectorizer\n",
        "import pandas as pd\n",
        "import numpy as np\n",
        "import re\n",
        "import math\n",
        "import random\n",
        "from nltk.util import ngrams\n",
        "from collections import Counter\n",
        "import nltk\n",
        "nltk.download('punkt', force=True)\n",
        "import spacy\n",
        "nlp = spacy.load(\"en_core_web_sm\")\n",
        "\n",
        "nltk.data.path.append('.')"
      ]
    },
    {
      "cell_type": "code",
      "source": [
        "# nltk.download('all')"
      ],
      "metadata": {
        "id": "LGJnZzgzquLs"
      },
      "execution_count": 3,
      "outputs": []
    },
    {
      "cell_type": "code",
      "execution_count": 4,
      "metadata": {
        "id": "GK9Ne6AjlcO1"
      },
      "outputs": [],
      "source": [
        "corpus = [\n",
        "    \"<s> Lyn drinks chocolate </s>\",\n",
        "    \"<s> She loves chocolate </s>\",\n",
        "    \"<s> He drinks tea </s>\"\n",
        "]"
      ]
    },
    {
      "cell_type": "code",
      "execution_count": 5,
      "metadata": {
        "id": "pVRP4WDwlcO2"
      },
      "outputs": [],
      "source": [
        "vectorizer = CountVectorizer(ngram_range=(2, 2))\n",
        "X = vectorizer.fit_transform(corpus)"
      ]
    },
    {
      "cell_type": "code",
      "execution_count": 6,
      "metadata": {
        "colab": {
          "base_uri": "https://localhost:8080/"
        },
        "id": "3MLFayxBlcO3",
        "outputId": "83951d86-d2cb-4dfa-aacd-971044d0e354"
      },
      "outputs": [
        {
          "output_type": "execute_result",
          "data": {
            "text/plain": [
              "array(['drinks chocolate', 'drinks tea', 'he drinks', 'loves chocolate',\n",
              "       'lyn drinks', 'she loves'], dtype=object)"
            ]
          },
          "metadata": {},
          "execution_count": 6
        }
      ],
      "source": [
        "bigrams = vectorizer.get_feature_names_out()\n",
        "bigrams"
      ]
    },
    {
      "cell_type": "code",
      "execution_count": 7,
      "metadata": {
        "colab": {
          "base_uri": "https://localhost:8080/"
        },
        "id": "dHk_k1A-lcO4",
        "outputId": "2c2a73d4-41ce-4d3a-cc2c-05eb69b803f2"
      },
      "outputs": [
        {
          "output_type": "execute_result",
          "data": {
            "text/plain": [
              "array([[1, 0, 0, 0, 1, 0],\n",
              "       [0, 0, 0, 1, 0, 1],\n",
              "       [0, 1, 1, 0, 0, 0]])"
            ]
          },
          "metadata": {},
          "execution_count": 7
        }
      ],
      "source": [
        "X.toarray()"
      ]
    },
    {
      "cell_type": "code",
      "execution_count": 8,
      "metadata": {
        "id": "QULX-KidlcO4"
      },
      "outputs": [],
      "source": [
        "def calculate_bigram_probability(word1, word2, vectorizer, X):\n",
        "    bigrams = vectorizer.get_feature_names_out()\n",
        "    bigram_counts = X.toarray().sum(axis=0)\n",
        "    bigram = f\"{word1} {word2}\"\n",
        "\n",
        "    if bigram not in bigrams:\n",
        "        return 0\n",
        "\n",
        "    bigram_index = list(bigrams).index(bigram)\n",
        "    bigram_count = bigram_counts[bigram_index]\n",
        "\n",
        "    word1_count = sum(\n",
        "        bigram_counts[i]\n",
        "        for i, bigram in enumerate(bigrams)\n",
        "        if bigram.startswith(word1)\n",
        "    )\n",
        "\n",
        "    return bigram_count / word1_count if word1_count > 0 else 0"
      ]
    },
    {
      "cell_type": "code",
      "execution_count": 9,
      "metadata": {
        "colab": {
          "base_uri": "https://localhost:8080/"
        },
        "id": "nSdqkXNYlcO5",
        "outputId": "f56fa603-edc0-4583-8917-09357a63aaa1"
      },
      "outputs": [
        {
          "output_type": "stream",
          "name": "stdout",
          "text": [
            "P(chocolate | drinks): 0.5\n"
          ]
        }
      ],
      "source": [
        "print(\"P(chocolate | drinks):\", calculate_bigram_probability(\"drinks\", \"chocolate\", vectorizer, X))"
      ]
    },
    {
      "cell_type": "markdown",
      "source": [
        "<a name='1'></a>\n",
        "## 1 - Load and Preprocess Data\n",
        "\n",
        "<a name='1.1'></a>\n",
        "### 1.1 - Load the Data\n",
        "You will use twitter data.\n",
        "Load the data and view the first few sentences by running the next cell.\n",
        "\n",
        "Notice that data is a long string that contains many many tweets.\n",
        "Observe that there is a line break \"\\n\" between tweets."
      ],
      "metadata": {
        "id": "7O1x-DxMCnUB"
      }
    },
    {
      "cell_type": "code",
      "execution_count": 10,
      "metadata": {
        "id": "JOrqxbwolcO5"
      },
      "outputs": [],
      "source": [
        "with open(\"/content/en_US.twitter.txt\", 'r') as file:\n",
        "    data = file.read()"
      ]
    },
    {
      "cell_type": "code",
      "execution_count": 11,
      "metadata": {
        "colab": {
          "base_uri": "https://localhost:8080/",
          "height": 237
        },
        "id": "bjMCp2sslcO5",
        "outputId": "fcc4af13-700b-4cef-bbc3-160c32c7e39a"
      },
      "outputs": [
        {
          "output_type": "stream",
          "name": "stdout",
          "text": [
            "Data type: <class 'str'>\n",
            "Number of letters: 3335477\n",
            "First 300 letters of the data\n",
            "-------\n"
          ]
        },
        {
          "output_type": "display_data",
          "data": {
            "text/plain": [
              "\"How are you? Btw thanks for the RT. You gonna be in DC anytime soon? Love to see you. Been way, way too long.\\nWhen you meet someone special... you'll know. Your heart will beat more rapidly and you'll smile for no reason.\\nthey've decided its more fun if I don't.\\nSo Tired D; Played Lazer Tag & Ran A \""
            ],
            "application/vnd.google.colaboratory.intrinsic+json": {
              "type": "string"
            }
          },
          "metadata": {}
        },
        {
          "output_type": "stream",
          "name": "stdout",
          "text": [
            "-------\n",
            "Last 300 letters of the data\n",
            "-------\n"
          ]
        },
        {
          "output_type": "display_data",
          "data": {
            "text/plain": [
              "\"ust had one a few weeks back....hopefully we will be back soon! wish you the best yo\\nColombia is with an 'o'...“: We now ship to 4 countries in South America (fist pump). Please welcome Columbia to the Stunner Family”\\n#GutsiestMovesYouCanMake Giving a cat a bath.\\nCoffee after 5 was a TERRIBLE idea.\\n\""
            ],
            "application/vnd.google.colaboratory.intrinsic+json": {
              "type": "string"
            }
          },
          "metadata": {}
        },
        {
          "output_type": "stream",
          "name": "stdout",
          "text": [
            "-------\n"
          ]
        }
      ],
      "source": [
        "print(\"Data type:\", type(data))\n",
        "print(\"Number of letters:\", len(data))\n",
        "print(\"First 300 letters of the data\")\n",
        "print(\"-------\")\n",
        "display(data[0:300])\n",
        "print(\"-------\")\n",
        "\n",
        "print(\"Last 300 letters of the data\")\n",
        "print(\"-------\")\n",
        "display(data[-300:])\n",
        "print(\"-------\")"
      ]
    },
    {
      "cell_type": "markdown",
      "source": [
        "<a name='1.2'></a>\n",
        "### 1.2 - Pre-process the Data\n",
        "\n",
        "Preprocess this data with the following steps:\n",
        "\n",
        "1. Split data into sentences using \"\\n\" as the delimiter.\n",
        "1. Split each sentence into tokens. Note that in this assignment we use \"token\" and \"words\" interchangeably.\n",
        "1. Assign sentences into train or test sets.\n",
        "1. Find tokens that appear at least N times in the training data.\n",
        "1. Replace tokens that appear less than N times by `<unk>`\n",
        "\n",
        "\n",
        "Note: we omit validation data in this exercise.\n",
        "- In real applications, we should hold a part of data as a validation set and use it to tune our training.\n",
        "- We skip this process for simplicity."
      ],
      "metadata": {
        "id": "bqtZKX8YCqNp"
      }
    },
    {
      "cell_type": "markdown",
      "source": [
        "<a name='ex-1'></a>\n",
        "### Exercise 1- split_to_sentences\n",
        "\n",
        "Split data into sentences."
      ],
      "metadata": {
        "id": "9hoDdDjZCs8Q"
      }
    },
    {
      "cell_type": "code",
      "execution_count": 12,
      "metadata": {
        "id": "I5o3dviJlcO6"
      },
      "outputs": [],
      "source": [
        "def split_into_sentence(data):\n",
        "\n",
        "  sentences = data.split(\"\\n\")\n",
        "  sentences = [s.strip() for s in sentences]\n",
        "  sentences = [s for s in sentences if len(s) > 0]\n",
        "\n",
        "  return sentences"
      ]
    },
    {
      "cell_type": "code",
      "execution_count": 13,
      "metadata": {
        "colab": {
          "base_uri": "https://localhost:8080/"
        },
        "id": "eR1iyNVmlcO6",
        "outputId": "92b364e7-33d8-447f-f087-b21b189229bc"
      },
      "outputs": [
        {
          "output_type": "execute_result",
          "data": {
            "text/plain": [
              "['I have a pen.', 'I have an apple.', 'Ah', 'Apple pen.']"
            ]
          },
          "metadata": {},
          "execution_count": 13
        }
      ],
      "source": [
        "x = \"\"\"\n",
        "I have a pen.\\nI have an apple. \\nAh\\nApple pen.\\n\n",
        "\"\"\"\n",
        "split_into_sentence(x)"
      ]
    },
    {
      "cell_type": "markdown",
      "source": [
        "<a name='ex-2'></a>\n",
        "### Exercise 2 - tokenize_sentences\n",
        "The next step is to tokenize sentences (split a sentence into a list of words).\n",
        "- Convert all tokens into lower case so that words which are capitalized (for example, at the start of a sentence) in the original text are treated the same as the lowercase versions of the words.\n",
        "- Append each tokenized list of words into a list of tokenized sentences."
      ],
      "metadata": {
        "id": "guaqaUTgC0G4"
      }
    },
    {
      "cell_type": "code",
      "execution_count": 14,
      "metadata": {
        "id": "zgdcAsAHlcO6"
      },
      "outputs": [],
      "source": [
        "def tokenize_sentences(sentences):\n",
        "    tokenized_sentences = []\n",
        "    for sentence in sentences:\n",
        "        doc = nlp(sentence.lower())\n",
        "        tokenized_sentences.append([token.text for token in doc])\n",
        "    return tokenized_sentences"
      ]
    },
    {
      "cell_type": "code",
      "execution_count": 15,
      "metadata": {
        "colab": {
          "base_uri": "https://localhost:8080/"
        },
        "id": "D9rXGOrclcO7",
        "outputId": "4a1b95d9-2f48-4fa4-9416-037eb0201e03"
      },
      "outputs": [
        {
          "output_type": "stream",
          "name": "stdout",
          "text": [
            "[['sky', 'is', 'blue', '.'], ['leaves', 'are', 'green', '.'], ['roses', 'are', 'red', '.']]\n"
          ]
        }
      ],
      "source": [
        "sentences = [\"Sky is blue.\", \"Leaves are green.\", \"Roses are red.\"]\n",
        "print(tokenize_sentences(sentences))"
      ]
    },
    {
      "cell_type": "markdown",
      "source": [
        "<a name='ex-3'></a>\n",
        "### Exercise 3 - get_tokenized_data\n",
        "\n",
        "\n",
        "Use the two functions that you have just implemented to get the tokenized data.\n",
        "- split the data into sentences\n",
        "- tokenize those sentences"
      ],
      "metadata": {
        "id": "qFHf6BnxCxMm"
      }
    },
    {
      "cell_type": "code",
      "source": [
        "def get_tokenized_data(data):\n",
        "  sentences = split_into_sentence(data)\n",
        "  tokenized_sentences = tokenize_sentences(sentences)\n",
        "  return tokenized_sentences"
      ],
      "metadata": {
        "id": "isx9xAVkmj_n"
      },
      "execution_count": 16,
      "outputs": []
    },
    {
      "cell_type": "code",
      "source": [
        "x = \"Sky is blue.\\nLeaves are green\\nRoses are red.\"\n",
        "get_tokenized_data(x)"
      ],
      "metadata": {
        "colab": {
          "base_uri": "https://localhost:8080/"
        },
        "id": "9jrreUKtsNnN",
        "outputId": "407289f9-e656-4fad-e3d5-e6cf36629ae2"
      },
      "execution_count": 17,
      "outputs": [
        {
          "output_type": "execute_result",
          "data": {
            "text/plain": [
              "[['sky', 'is', 'blue', '.'],\n",
              " ['leaves', 'are', 'green'],\n",
              " ['roses', 'are', 'red', '.']]"
            ]
          },
          "metadata": {},
          "execution_count": 17
        }
      ]
    },
    {
      "cell_type": "code",
      "source": [
        "tokenized_data = get_tokenized_data(data)\n",
        "random.seed(87)\n",
        "random.shuffle(tokenized_data)\n",
        "\n",
        "train_size = int(len(tokenized_data) * 0.8)\n",
        "train_data = tokenized_data[0:train_size]\n",
        "test_data = tokenized_data[train_size:]"
      ],
      "metadata": {
        "id": "7m9FFIGSsPhc"
      },
      "execution_count": 18,
      "outputs": []
    },
    {
      "cell_type": "markdown",
      "source": [
        "#### Split into train and test sets\n",
        "\n",
        "Now run the cell below to split data into training and test sets."
      ],
      "metadata": {
        "id": "2gMrmSOmC6hi"
      }
    },
    {
      "cell_type": "code",
      "source": [
        "print(\"{} data are split into {} train and {} test set\".format(\n",
        "    len(tokenized_data), len(train_data), len(test_data)))\n",
        "\n",
        "print(\"First training sample:\")\n",
        "print(train_data[0])\n",
        "\n",
        "print(\"First test sample\")\n",
        "print(test_data[0])"
      ],
      "metadata": {
        "colab": {
          "base_uri": "https://localhost:8080/"
        },
        "id": "1PsWYt3wsfKp",
        "outputId": "04aab846-91b1-4c59-bd04-551951b4db61"
      },
      "execution_count": 19,
      "outputs": [
        {
          "output_type": "stream",
          "name": "stdout",
          "text": [
            "47961 data are split into 38368 train and 9593 test set\n",
            "First training sample:\n",
            "['i', 'personally', 'would', 'like', 'as', 'our', 'official', 'glove', 'of', 'the', 'team', 'local', 'company', 'and', 'quality', 'production']\n",
            "First test sample\n",
            "['that', 'picture', 'i', 'just', 'seen', 'whoa', 'dere', '!', '!', '>', '>', '>', '>', '>', '>', '>']\n"
          ]
        }
      ]
    },
    {
      "cell_type": "markdown",
      "source": [
        "<a name='ex-4'></a>\n",
        "### Exercise 4 - count_words\n",
        "\n",
        "You won't use all the tokens (words) appearing in the data for training.  Instead, you will use the more frequently used words.  \n",
        "- You will focus on the words that appear at least N times in the data.\n",
        "- First count how many times each word appears in the data.\n",
        "\n",
        "You will need a double for-loop, one for sentences and the other for tokens within a sentence."
      ],
      "metadata": {
        "id": "bK9FjZ0QC9yH"
      }
    },
    {
      "cell_type": "code",
      "source": [
        "from collections import Counter\n",
        "\n",
        "def count_words(tokenized_sentences):\n",
        "    word_counts = Counter([token for sentence in tokenized_sentences for token in sentence])\n",
        "    return word_counts"
      ],
      "metadata": {
        "id": "VWlhUISiuGgP"
      },
      "execution_count": 20,
      "outputs": []
    },
    {
      "cell_type": "code",
      "source": [
        "tokenized_sentences = [['sky', 'is', 'blue', '.'],\n",
        "                       ['leaves', 'are', 'green', '.'],\n",
        "                       ['roses', 'are', 'red', '.']]\n",
        "count_words(tokenized_sentences)"
      ],
      "metadata": {
        "colab": {
          "base_uri": "https://localhost:8080/"
        },
        "id": "zmdhf81huWXP",
        "outputId": "2d07aa10-e384-4cea-9074-c47c9a03482e"
      },
      "execution_count": 21,
      "outputs": [
        {
          "output_type": "execute_result",
          "data": {
            "text/plain": [
              "Counter({'sky': 1,\n",
              "         'is': 1,\n",
              "         'blue': 1,\n",
              "         '.': 3,\n",
              "         'leaves': 1,\n",
              "         'are': 2,\n",
              "         'green': 1,\n",
              "         'roses': 1,\n",
              "         'red': 1})"
            ]
          },
          "metadata": {},
          "execution_count": 21
        }
      ]
    },
    {
      "cell_type": "markdown",
      "source": [
        "#### Handling 'Out of Vocabulary' words\n",
        "\n",
        "If your model is performing autocomplete, but encounters a word that it never saw during training, it won't have an input word to help it determine the next word to suggest. The model will not be able to predict the next word because there are no counts for the current word.\n",
        "- This 'new' word is called an 'unknown word', or <b>out of vocabulary (OOV)</b> words.\n",
        "- The percentage of unknown words in the test set is called the <b> OOV </b> rate.\n",
        "\n",
        "To handle unknown words during prediction, use a special token to represent all unknown words 'unk'.\n",
        "- Modify the training data so that it has some 'unknown' words to train on.\n",
        "- Words to convert into \"unknown\" words are those that do not occur very frequently in the training set.\n",
        "- Create a list of the most frequent words in the training set, called the <b> closed vocabulary </b>.\n",
        "- Convert all the other words that are not part of the closed vocabulary to the token 'unk'.\n",
        "\n",
        "\n"
      ],
      "metadata": {
        "id": "w415bj2KDHyS"
      }
    },
    {
      "cell_type": "markdown",
      "source": [
        "<a name='ex-5'></a>\n",
        "### Exercise 5 - get_words_with_nplus_frequency\n",
        "\n",
        "You will now create a function that takes in a text document and a threshold `count_threshold`.\n",
        "- Any word whose count is greater than or equal to the threshold `count_threshold` is kept in the closed vocabulary.\n",
        "- Returns the word closed vocabulary list."
      ],
      "metadata": {
        "id": "AcMeO1c3DIf0"
      }
    },
    {
      "cell_type": "code",
      "source": [
        "def get_words_with_nplus_frequency(tokenized_sentences, count_threshold):\n",
        "\n",
        "    word_counts = count_words(tokenized_sentences)\n",
        "    return [word for word, count in word_counts.items() if count >= count_threshold]"
      ],
      "metadata": {
        "id": "qUl0vJf5uYbr"
      },
      "execution_count": 22,
      "outputs": []
    },
    {
      "cell_type": "code",
      "source": [
        "tokenized_sentences = [['sky', 'is', 'blue', '.'],\n",
        "                       ['leaves', 'are', 'green', '.'],\n",
        "                       ['roses', 'are', 'red', '.']]\n",
        "tmp_closed_vocab = get_words_with_nplus_frequency(tokenized_sentences, count_threshold=2)\n",
        "print(f\"Closed vocabulary:\")\n",
        "print(tmp_closed_vocab)"
      ],
      "metadata": {
        "colab": {
          "base_uri": "https://localhost:8080/"
        },
        "id": "Ynb_ZFlnulzI",
        "outputId": "3880c9f5-002a-43d7-98ad-d1f0c8b57eb3"
      },
      "execution_count": 23,
      "outputs": [
        {
          "output_type": "stream",
          "name": "stdout",
          "text": [
            "Closed vocabulary:\n",
            "['.', 'are']\n"
          ]
        }
      ]
    },
    {
      "cell_type": "markdown",
      "source": [
        "<a name='ex-6'></a>\n",
        "### Exercise 6 - replace_oov_words_by_unk\n",
        "\n",
        "The words that appear `count_threshold` times or more are in the closed vocabulary.\n",
        "- All other words are regarded as `unknown`.\n",
        "- Replace words not in the closed vocabulary with the token `<unk>`."
      ],
      "metadata": {
        "id": "YeE--TgRDNcC"
      }
    },
    {
      "cell_type": "code",
      "source": [
        "def replace_oov_words_by_unk(tokenized_sentences, vocabulary, unknown_token=\"<unk>\"):\n",
        "\n",
        "  vocabulary = set(vocabulary)\n",
        "  replaced_tokenized_sentences = []\n",
        "\n",
        "  for sentence in tokenized_sentences:\n",
        "    replaced_sentence = []\n",
        "\n",
        "    for token in sentence:\n",
        "\n",
        "      if token in vocabulary:\n",
        "        replaced_sentence.append(token)\n",
        "      else:\n",
        "        replaced_sentence.append(unknown_token)\n",
        "\n",
        "    replaced_tokenized_sentences.append(replaced_sentence)\n",
        "\n",
        "  return replaced_tokenized_sentences"
      ],
      "metadata": {
        "id": "Yd_FjLt2un4t"
      },
      "execution_count": 24,
      "outputs": []
    },
    {
      "cell_type": "code",
      "source": [
        "tokenized_sentences = [[\"dogs\", \"run\"], [\"cats\", \"sleep\"]]\n",
        "vocabulary = [\"dogs\", \"sleep\"]\n",
        "tmp_replaced_tokenized_sentences = replace_oov_words_by_unk(tokenized_sentences, vocabulary)\n",
        "print(f\"Original sentence:\")\n",
        "print(tokenized_sentences)\n",
        "print(f\"tokenized_sentences with less frequent words converted to '<unk>':\")\n",
        "print(tmp_replaced_tokenized_sentences)"
      ],
      "metadata": {
        "colab": {
          "base_uri": "https://localhost:8080/"
        },
        "id": "mEeZTBnuvG21",
        "outputId": "53bcaa13-f45b-4e48-efa8-608ae2ddbdad"
      },
      "execution_count": 25,
      "outputs": [
        {
          "output_type": "stream",
          "name": "stdout",
          "text": [
            "Original sentence:\n",
            "[['dogs', 'run'], ['cats', 'sleep']]\n",
            "tokenized_sentences with less frequent words converted to '<unk>':\n",
            "[['dogs', '<unk>'], ['<unk>', 'sleep']]\n"
          ]
        }
      ]
    },
    {
      "cell_type": "markdown",
      "source": [
        "<a name='ex-7'></a>\n",
        "### Exercise 7 - preprocess_data\n",
        "\n",
        "Now we are ready to process our data by combining the functions that you just implemented.\n",
        "\n",
        "1. Find tokens that appear at least count_threshold times in the training data.\n",
        "1. Replace tokens that appear less than count_threshold times by \"<unk\\>\" both for training and test data."
      ],
      "metadata": {
        "id": "z-oj_bb7DQ0k"
      }
    },
    {
      "cell_type": "code",
      "source": [
        "def preprocess_data(train_data, test_data, count_threshold, unknown_token=\"<unk>\", get_words_with_nplus_frequency=get_words_with_nplus_frequency, replace_oov_words_by_unk=replace_oov_words_by_unk):\n",
        "\n",
        "  vocabulary = get_words_with_nplus_frequency(train_data, count_threshold)\n",
        "\n",
        "  train_data_replaced = replace_oov_words_by_unk(train_data, vocabulary, unknown_token)\n",
        "\n",
        "  test_data_replaced = replace_oov_words_by_unk(test_data, vocabulary, unknown_token)\n",
        "\n",
        "  return train_data_replaced, test_data_replaced, vocabulary"
      ],
      "metadata": {
        "id": "sEDvcCdQvIeS"
      },
      "execution_count": 26,
      "outputs": []
    },
    {
      "cell_type": "code",
      "source": [
        "tmp_train = [['sky', 'is', 'blue', '.'],\n",
        "     ['leaves', 'are', 'green']]\n",
        "tmp_test = [['roses', 'are', 'red', '.']]\n",
        "\n",
        "tmp_train_repl, tmp_test_repl, tmp_vocab = preprocess_data(tmp_train,\n",
        "                                                           tmp_test,\n",
        "                                                           count_threshold = 1\n",
        "                                                          )\n",
        "\n",
        "print(\"tmp_train_repl\")\n",
        "print(tmp_train_repl)\n",
        "print()\n",
        "print(\"tmp_test_repl\")\n",
        "print(tmp_test_repl)\n",
        "print()\n",
        "print(\"tmp_vocab\")\n",
        "print(tmp_vocab)"
      ],
      "metadata": {
        "colab": {
          "base_uri": "https://localhost:8080/"
        },
        "id": "rZ13wd4kwB_4",
        "outputId": "fe0e90d2-a63f-4cba-801a-9e72d7e0ba6e"
      },
      "execution_count": 27,
      "outputs": [
        {
          "output_type": "stream",
          "name": "stdout",
          "text": [
            "tmp_train_repl\n",
            "[['sky', 'is', 'blue', '.'], ['leaves', 'are', 'green']]\n",
            "\n",
            "tmp_test_repl\n",
            "[['<unk>', 'are', '<unk>', '.']]\n",
            "\n",
            "tmp_vocab\n",
            "['sky', 'is', 'blue', '.', 'leaves', 'are', 'green']\n"
          ]
        }
      ]
    },
    {
      "cell_type": "markdown",
      "source": [
        "#### Preprocess the train and test data\n",
        "Run the cell below to complete the preprocessing both for training and test sets."
      ],
      "metadata": {
        "id": "cnZqkvr3DVSQ"
      }
    },
    {
      "cell_type": "code",
      "source": [
        "minimum_freq = 2\n",
        "train_data_processed, test_data_processed, vocabulary = preprocess_data(train_data,\n",
        "                                                                        test_data,\n",
        "                                                                        minimum_freq)"
      ],
      "metadata": {
        "id": "dXI_zbwBwE02"
      },
      "execution_count": 28,
      "outputs": []
    },
    {
      "cell_type": "code",
      "source": [
        "print(\"First preprocessed training sample:\")\n",
        "print(train_data_processed[0])\n",
        "print()\n",
        "print(\"First preprocessed test sample:\")\n",
        "print(test_data_processed[0])\n",
        "print()\n",
        "print(\"First 10 vocabulary:\")\n",
        "print(vocabulary[0:10])\n",
        "print()\n",
        "print(\"Size of vocabulary:\", len(vocabulary))"
      ],
      "metadata": {
        "colab": {
          "base_uri": "https://localhost:8080/"
        },
        "id": "yeuS8vGTwMFd",
        "outputId": "07293348-4773-4e33-edf3-41ab520278c4"
      },
      "execution_count": 29,
      "outputs": [
        {
          "output_type": "stream",
          "name": "stdout",
          "text": [
            "First preprocessed training sample:\n",
            "['i', 'personally', 'would', 'like', 'as', 'our', 'official', 'glove', 'of', 'the', 'team', 'local', 'company', 'and', 'quality', 'production']\n",
            "\n",
            "First preprocessed test sample:\n",
            "['that', 'picture', 'i', 'just', 'seen', 'whoa', 'dere', '!', '!', '>', '>', '>', '>', '>', '>', '>']\n",
            "\n",
            "First 10 vocabulary:\n",
            "['i', 'personally', 'would', 'like', 'as', 'our', 'official', 'glove', 'of', 'the']\n",
            "\n",
            "Size of vocabulary: 14841\n"
          ]
        }
      ]
    },
    {
      "cell_type": "markdown",
      "source": [
        "<a name='2'></a>\n",
        "## 2 - Develop n-gram based Language Models\n",
        "\n",
        "In this section, you will develop the n-grams language model.\n",
        "- Assume the probability of the next word depends only on the previous n-gram.\n",
        "- The previous n-gram is the series of the previous 'n' words.\n",
        "\n",
        "The conditional probability for the word at position 't' in the sentence, given that the words preceding it are $w_{t-n}\\cdots w_{t-2}, w_{t-1}$ is:\n",
        "\n",
        "$$ P(w_t | w_{t-n}\\dots w_{t-1} ) \\tag{1}$$\n",
        "\n",
        "You can estimate this probability  by counting the occurrences of these series of words in the training data.\n",
        "- The probability can be estimated as a ratio, where\n",
        "- The numerator is the number of times word 't' appears after words t-n through t-1 appear in the training data.\n",
        "- The denominator is the number of times word t-n through t-1 appears in the training data.\n",
        "\n",
        "\n",
        "$$ \\hat{P}(w_t | w_{t-n} \\dots w_{t-1}) = \\frac{C(w_{t-n}\\dots w_{t-1}, w_t)}{C(w_{t-n}\\dots w_{t-1})} \\tag{2} $$\n",
        "\n",
        "\n",
        "- The function $C(\\cdots)$ denotes the number of occurence of the given sequence.\n",
        "- $\\hat{P}$ means the estimation of $P$.\n",
        "- Notice that denominator of the equation (2) is the number of occurence of the previous $n$ words, and the numerator is the same sequence followed by the word $w_t$.\n",
        "\n",
        "Later, you will modify the equation (2) by adding k-smoothing, which avoids errors when any counts are zero.\n",
        "\n",
        "The equation (2) tells us that to estimate probabilities based on n-grams, you need the counts of n-grams (for denominator) and (n+1)-grams (for numerator)."
      ],
      "metadata": {
        "id": "mKgurxySDYyb"
      }
    },
    {
      "cell_type": "code",
      "source": [
        "def count_n_grams(data, n, start_token='<s>', end_token='<e>'):\n",
        "\n",
        "    n_grams = Counter()\n",
        "\n",
        "    for sentence in data:\n",
        "        sentence = [start_token] * (n - 1) + sentence + [end_token]\n",
        "        n_grams.update(ngrams(sentence, n))\n",
        "\n",
        "    return dict(n_grams)"
      ],
      "metadata": {
        "id": "x_TPyb5cxlsu"
      },
      "execution_count": 34,
      "outputs": []
    },
    {
      "cell_type": "code",
      "source": [
        "bigram_counts = count_n_grams(train_data_processed, n=2)\n",
        "trigram_counts = count_n_grams(train_data_processed, n=3)"
      ],
      "metadata": {
        "id": "xw26WHIGxrvV"
      },
      "execution_count": 35,
      "outputs": []
    },
    {
      "cell_type": "code",
      "source": [
        "print(\"Top 10 Bigrams:\", sorted(bigram_counts.items(), key=lambda x: x[1], reverse=True)[:10])\n",
        "\n",
        "print(\"Top 10 Trigrams:\", sorted(trigram_counts.items(), key=lambda x: x[1], reverse=True)[:10])"
      ],
      "metadata": {
        "colab": {
          "base_uri": "https://localhost:8080/"
        },
        "id": "1jEqm26H-YD0",
        "outputId": "6cb6cd8e-c547-486e-92d4-a4aae5693916"
      },
      "execution_count": 36,
      "outputs": [
        {
          "output_type": "stream",
          "name": "stdout",
          "text": [
            "Top 10 Bigrams: [(('.', '<e>'), 9871), (('!', '<e>'), 7700), (('!', '!'), 5016), (('<s>', 'i'), 4316), (('?', '<e>'), 3041), (('i', \"'m\"), 2084), (('#', '<unk>'), 1925), (('<unk>', '.'), 1575), (('<unk>', '<e>'), 1409), (('it', \"'s\"), 1389)]\n",
            "Top 10 Trigrams: [(('<s>', '<s>', 'i'), 4316), (('!', '!', '!'), 2247), (('!', '!', '<e>'), 1381), (('<s>', '<s>', '<unk>'), 1256), (('<s>', '<s>', '#'), 936), (('<s>', '<s>', 'thanks'), 853), (('<s>', '<s>', 'you'), 790), (('<s>', '<s>', 'the'), 701), (('<s>', 'i', \"'m\"), 615), (('<s>', '<s>', 'rt'), 605)]\n"
          ]
        }
      ]
    },
    {
      "cell_type": "markdown",
      "source": [
        "<a name='ex-9'></a>\n",
        "### Exercise 9 - estimate_probability\n",
        "\n",
        "Next, estimate the probability of a word given the prior 'n' words using the n-gram counts.\n",
        "\n",
        "$$ \\hat{P}(w_t | w_{t-n} \\dots w_{t-1}) = \\frac{C(w_{t-n}\\dots w_{t-1}, w_t)}{C(w_{t-n}\\dots w_{t-1})} \\tag{2} $$\n",
        "\n",
        "This formula doesn't work when a count of an n-gram is zero..\n",
        "- Suppose we encounter an n-gram that did not occur in the training data.  \n",
        "- Then, the equation (2) cannot be evaluated (it becomes zero divided by zero).\n",
        "\n",
        "A way to handle zero counts is to add k-smoothing.  \n",
        "- K-smoothing adds a positive constant $k$ to each numerator and $k \\times |V|$ in the denominator, where $|V|$ is the number of words in the vocabulary.\n",
        "\n",
        "$$ \\hat{P}(w_t | w_{t-n} \\dots w_{t-1}) = \\frac{C(w_{t-n}\\dots w_{t-1}, w_t) + k}{C(w_{t-n}\\dots w_{t-1}) + k|V|} \\tag{3} $$\n",
        "\n",
        "\n",
        "For n-grams that have a zero count, the equation (3) becomes $\\frac{1}{|V|}$.\n",
        "- This means that any n-gram with zero count has the same probability of $\\frac{1}{|V|}$.\n",
        "\n",
        "Define a function that computes the probability estimate (3) from n-gram counts and a constant $k$.\n",
        "\n",
        "- The function takes in a dictionary 'n_gram_counts', where the key is the n-gram and the value is the count of that n-gram.\n",
        "- The function also takes another dictionary n_plus1_gram_counts, which you'll use to find the count for the previous n-gram plus the current word."
      ],
      "metadata": {
        "id": "DGv4dJO4DguH"
      }
    },
    {
      "cell_type": "code",
      "source": [
        "def estimate_probability(word, previous_n_gram, n_gram_counts, n_plus1_gram_counts, vocabulary_size, k=1.0):\n",
        "\n",
        "    previous_n_gram = tuple(previous_n_gram)\n",
        "    previous_n_gram_count = n_gram_counts.get(previous_n_gram, 0)\n",
        "\n",
        "    denominator = previous_n_gram_count + k * vocabulary_size\n",
        "\n",
        "    n_plus1_gram = previous_n_gram + (word,)\n",
        "    n_plus1_gram_count = n_plus1_gram_counts.get(n_plus1_gram, 0)\n",
        "\n",
        "    numerator = n_plus1_gram_count + k\n",
        "\n",
        "    probability = numerator / denominator\n",
        "\n",
        "    return probability"
      ],
      "metadata": {
        "id": "c_BJl1ll-ZdY"
      },
      "execution_count": 37,
      "outputs": []
    },
    {
      "cell_type": "code",
      "source": [
        "sentences = [['i', 'like', 'a', 'cat'],\n",
        "             ['this', 'dog', 'is', 'like', 'a', 'cat']]\n",
        "unique_words = list(set(sentences[0] + sentences[1]))\n"
      ],
      "metadata": {
        "id": "dhKtdf8f_Q46"
      },
      "execution_count": 40,
      "outputs": []
    },
    {
      "cell_type": "code",
      "source": [
        "unigram_counts = count_n_grams(sentences, 1)\n",
        "bigram_counts = count_n_grams(sentences, 2)\n",
        "tmp_prob = estimate_probability(\"cat\", [\"a\"], unigram_counts, bigram_counts, len(unique_words), k=1)\n",
        "\n",
        "print(f\"The estimated probability of word 'cat' given the previous n-gram 'a' is: {tmp_prob:.4f}\")"
      ],
      "metadata": {
        "colab": {
          "base_uri": "https://localhost:8080/"
        },
        "id": "oApeYu80_gER",
        "outputId": "09fc456e-8a02-40a0-9a4c-0994c0de6aa8"
      },
      "execution_count": 41,
      "outputs": [
        {
          "output_type": "stream",
          "name": "stdout",
          "text": [
            "The estimated probability of word 'cat' given the previous n-gram 'a' is: 0.3333\n"
          ]
        }
      ]
    },
    {
      "cell_type": "markdown",
      "source": [
        "#### Estimate probabilities for all words\n",
        "\n",
        "The function defined below loops over all words in vocabulary to calculate probabilities for all possible words.\n",
        "- This function is provided for you."
      ],
      "metadata": {
        "id": "Uv74gJslDkMv"
      }
    },
    {
      "cell_type": "code",
      "source": [
        "def estimate_probabilities(previous_n_gram, n_gram_counts, n_plus1_gram_counts, vocabulary, end_token='<e>', unknown_token=\"<unk>\",  k=1.0):\n",
        "\n",
        "    previous_n_gram = tuple(previous_n_gram)\n",
        "\n",
        "    vocabulary = vocabulary + [end_token, unknown_token]\n",
        "    vocabulary_size = len(vocabulary)\n",
        "\n",
        "    probabilities = {}\n",
        "    for word in vocabulary:\n",
        "        probability = estimate_probability(word, previous_n_gram,\n",
        "                                           n_gram_counts, n_plus1_gram_counts,\n",
        "                                           vocabulary_size, k=k)\n",
        "\n",
        "        probabilities[word] = probability\n",
        "\n",
        "    return probabilities"
      ],
      "metadata": {
        "id": "9rsRJNBv_wz0"
      },
      "execution_count": 42,
      "outputs": []
    },
    {
      "cell_type": "code",
      "source": [
        "sentences = [['i', 'like', 'a', 'cat'],\n",
        "             ['this', 'dog', 'is', 'like', 'a', 'cat']]\n",
        "unique_words = list(set(sentences[0] + sentences[1]))\n",
        "unigram_counts = count_n_grams(sentences, 1)\n",
        "bigram_counts = count_n_grams(sentences, 2)\n",
        "\n",
        "estimate_probabilities([\"a\"], unigram_counts, bigram_counts, unique_words, k=1)"
      ],
      "metadata": {
        "colab": {
          "base_uri": "https://localhost:8080/"
        },
        "id": "nC7LG-lWAFei",
        "outputId": "49a84f89-ea9d-40eb-b875-16167745275d"
      },
      "execution_count": 43,
      "outputs": [
        {
          "output_type": "execute_result",
          "data": {
            "text/plain": [
              "{'cat': 0.2727272727272727,\n",
              " 'i': 0.09090909090909091,\n",
              " 'this': 0.09090909090909091,\n",
              " 'a': 0.09090909090909091,\n",
              " 'like': 0.09090909090909091,\n",
              " 'dog': 0.09090909090909091,\n",
              " 'is': 0.09090909090909091,\n",
              " '<e>': 0.09090909090909091,\n",
              " '<unk>': 0.09090909090909091}"
            ]
          },
          "metadata": {},
          "execution_count": 43
        }
      ]
    },
    {
      "cell_type": "code",
      "source": [
        "trigram_counts = count_n_grams(sentences, 3)\n",
        "estimate_probabilities([\"<s>\", \"<s>\"], bigram_counts, trigram_counts, unique_words, k=1)"
      ],
      "metadata": {
        "colab": {
          "base_uri": "https://localhost:8080/"
        },
        "id": "P12-fuNFAGa7",
        "outputId": "79bba629-72a6-4a24-e554-aee36bd4764c"
      },
      "execution_count": 44,
      "outputs": [
        {
          "output_type": "execute_result",
          "data": {
            "text/plain": [
              "{'cat': 0.1111111111111111,\n",
              " 'i': 0.2222222222222222,\n",
              " 'this': 0.2222222222222222,\n",
              " 'a': 0.1111111111111111,\n",
              " 'like': 0.1111111111111111,\n",
              " 'dog': 0.1111111111111111,\n",
              " 'is': 0.1111111111111111,\n",
              " '<e>': 0.1111111111111111,\n",
              " '<unk>': 0.1111111111111111}"
            ]
          },
          "metadata": {},
          "execution_count": 44
        }
      ]
    },
    {
      "cell_type": "markdown",
      "source": [
        "<a name='3'></a>\n",
        "## 3 - Perplexity\n",
        "\n",
        "In this section, you will generate the perplexity score to evaluate your model on the test set.\n",
        "- You will also use back-off when needed.\n",
        "- Perplexity is used as an evaluation metric of your language model.\n",
        "- To calculate the perplexity score of the test set on an n-gram model, use:\n",
        "\n",
        "$$ PP(W) =\\sqrt[N]{ \\prod_{t=n+1}^N \\frac{1}{P(w_t | w_{t-n} \\cdots w_{t-1})} } \\tag{4}$$\n",
        "\n",
        "- where $N$ is the length of the sentence.\n",
        "- $n$ is the number of words in the n-gram (e.g. 2 for a bigram).\n",
        "- In math, the numbering starts at one and not zero.\n",
        "\n",
        "In code, array indexing starts at zero, so the code will use ranges for $t$ according to this formula:\n",
        "\n",
        "$$ PP(W) =\\sqrt[N]{ \\prod_{t=n}^{N-1} \\frac{1}{P(w_t | w_{t-n} \\cdots w_{t-1})} } \\tag{4.1}$$\n",
        "\n",
        "The higher the probabilities are, the lower the perplexity will be.\n",
        "- The more the n-grams tell us about the sentence, the lower the perplexity score will be."
      ],
      "metadata": {
        "id": "EtHo_QglDqAU"
      }
    },
    {
      "cell_type": "markdown",
      "source": [
        "<a name='ex-10'></a>\n",
        "### Exercise  - calculate_perplexity\n",
        "Compute the perplexity score given an N-gram count matrix and a sentence.\n",
        "\n",
        "**Note:** For the sake of simplicity, in the code below, `<s>` is included in perplexity score calculation."
      ],
      "metadata": {
        "id": "ohviN8d_DxjW"
      }
    },
    {
      "cell_type": "code",
      "source": [
        "def calculate_perplexity(sentence, n_gram_counts, n_plus1_gram_counts, vocabulary_size, start_token='<s>', end_token='<e>', k=1.0):\n",
        "\n",
        "    n = len(list(n_gram_counts.keys())[0])\n",
        "\n",
        "    sentence = [start_token] * n + sentence + [end_token]\n",
        "\n",
        "    sentence = tuple(sentence)\n",
        "\n",
        "    N = len(sentence)\n",
        "\n",
        "    product_pi = 1.0\n",
        "\n",
        "    for t in range(n, N):\n",
        "\n",
        "        n_gram = sentence[t-n:t]\n",
        "        word = sentence[t]\n",
        "\n",
        "        n_gram_count = n_gram_counts.get(n_gram, 0)\n",
        "        n_plus1_gram = n_gram + (word,)\n",
        "        n_plus1_gram_count = n_plus1_gram_counts.get(n_plus1_gram, 0)\n",
        "\n",
        "        probability = (n_plus1_gram_count + k) / (n_gram_count + k * vocabulary_size)\n",
        "\n",
        "        product_pi *= (1 / probability)\n",
        "\n",
        "    perplexity = product_pi**(1 / N)\n",
        "\n",
        "    return perplexity"
      ],
      "metadata": {
        "id": "QWQ8fbyPAKce"
      },
      "execution_count": 45,
      "outputs": []
    },
    {
      "cell_type": "code",
      "source": [
        "sentences = [['i', 'like', 'a', 'cat'],\n",
        "                 ['this', 'dog', 'is', 'like', 'a', 'cat']]\n",
        "unique_words = list(set(sentences[0] + sentences[1]))\n",
        "\n",
        "unigram_counts = count_n_grams(sentences, 1)\n",
        "bigram_counts = count_n_grams(sentences, 2)\n",
        "\n",
        "\n",
        "perplexity_train = calculate_perplexity(sentences[0],\n",
        "                                         unigram_counts, bigram_counts,\n",
        "                                         len(unique_words), k=1.0)\n",
        "print(f\"Perplexity for first train sample: {perplexity_train:.4f}\")\n",
        "\n",
        "test_sentence = ['i', 'like', 'a', 'dog']\n",
        "perplexity_test = calculate_perplexity(test_sentence,\n",
        "                                       unigram_counts, bigram_counts,\n",
        "                                       len(unique_words), k=1.0)\n",
        "print(f\"Perplexity for test sample: {perplexity_test:.4f}\")"
      ],
      "metadata": {
        "colab": {
          "base_uri": "https://localhost:8080/"
        },
        "id": "UfkF4-OdAv-m",
        "outputId": "ed83e3b4-f2c8-4172-97b3-e2616f8a5a85"
      },
      "execution_count": 46,
      "outputs": [
        {
          "output_type": "stream",
          "name": "stdout",
          "text": [
            "Perplexity for first train sample: 2.6889\n",
            "Perplexity for test sample: 3.8027\n"
          ]
        }
      ]
    },
    {
      "cell_type": "markdown",
      "source": [
        "<a name='4'></a>\n",
        "## 4 - Build an Auto-complete System\n",
        "\n",
        "In this section, you will combine the language models developed so far to implement an auto-complete system.\n"
      ],
      "metadata": {
        "id": "qi5yljc8DtAj"
      }
    },
    {
      "cell_type": "markdown",
      "source": [
        "<a name='ex-11'></a>\n",
        "### Exercise - suggest_a_word\n",
        "Compute probabilities for all possible next words and suggest the most likely one.\n",
        "- This function also take an optional argument `start_with`, which specifies the first few letters of the next words."
      ],
      "metadata": {
        "id": "-um44QwlD310"
      }
    },
    {
      "cell_type": "code",
      "source": [
        "def suggest_a_word(previous_tokens, n_gram_counts, n_plus1_gram_counts, vocabulary, k=1.0, start_with=None):\n",
        "\n",
        "    n = len(list(n_gram_counts.keys())[0])\n",
        "\n",
        "    previous_n_gram = previous_tokens[-n:]\n",
        "\n",
        "    probabilities = estimate_probabilities(previous_n_gram,\n",
        "                                           n_gram_counts, n_plus1_gram_counts,\n",
        "                                           vocabulary, k=k)\n",
        "    suggestion = None\n",
        "\n",
        "    max_prob = 0\n",
        "\n",
        "    for word, prob in probabilities.items():\n",
        "\n",
        "        if start_with:\n",
        "\n",
        "            if not word.startswith(start_with):\n",
        "\n",
        "                continue\n",
        "\n",
        "        if prob > max_prob:\n",
        "\n",
        "            suggestion = word\n",
        "            max_prob = prob\n",
        "    return suggestion, max_prob"
      ],
      "metadata": {
        "id": "wSUjYNiIBCdf"
      },
      "execution_count": 47,
      "outputs": []
    },
    {
      "cell_type": "code",
      "source": [
        "sentences = [['i', 'like', 'a', 'cat'],\n",
        "             ['this', 'dog', 'is', 'like', 'a', 'cat']]\n",
        "unique_words = list(set(sentences[0] + sentences[1]))\n",
        "\n",
        "unigram_counts = count_n_grams(sentences, 1)\n",
        "bigram_counts = count_n_grams(sentences, 2)\n",
        "\n",
        "previous_tokens = [\"i\", \"like\"]\n",
        "tmp_suggest1 = suggest_a_word(previous_tokens, unigram_counts, bigram_counts, unique_words, k=1.0)\n",
        "print(f\"The previous words are 'i like',\\n\\tand the suggested word is `{tmp_suggest1[0]}` with a probability of {tmp_suggest1[1]:.4f}\")\n",
        "\n",
        "print()\n",
        "tmp_starts_with = 'c'\n",
        "tmp_suggest2 = suggest_a_word(previous_tokens, unigram_counts, bigram_counts, unique_words, k=1.0, start_with=tmp_starts_with)\n",
        "print(f\"The previous words are 'i like', the suggestion must start with `{tmp_starts_with}`\\n\\tand the suggested word is `{tmp_suggest2[0]}` with a probability of {tmp_suggest2[1]:.4f}\")"
      ],
      "metadata": {
        "colab": {
          "base_uri": "https://localhost:8080/"
        },
        "id": "8lSmv-iBBTHh",
        "outputId": "b4151b57-f850-48de-f120-3e26757375a0"
      },
      "execution_count": 48,
      "outputs": [
        {
          "output_type": "stream",
          "name": "stdout",
          "text": [
            "The previous words are 'i like',\n",
            "\tand the suggested word is `a` with a probability of 0.2727\n",
            "\n",
            "The previous words are 'i like', the suggestion must start with `c`\n",
            "\tand the suggested word is `cat` with a probability of 0.0909\n"
          ]
        }
      ]
    },
    {
      "cell_type": "markdown",
      "source": [
        "#### Get multiple suggestions\n",
        "\n",
        "The function defined below loops over various n-gram models to get multiple suggestions."
      ],
      "metadata": {
        "id": "ewCmjo-DD9ow"
      }
    },
    {
      "cell_type": "code",
      "source": [
        "def get_suggestions(previous_tokens, n_gram_counts_list, vocabulary, k=1.0, start_with=None):\n",
        "    model_counts = len(n_gram_counts_list)\n",
        "    suggestions = []\n",
        "    for i in range(model_counts-1):\n",
        "        n_gram_counts = n_gram_counts_list[i]\n",
        "        n_plus1_gram_counts = n_gram_counts_list[i+1]\n",
        "\n",
        "        suggestion = suggest_a_word(previous_tokens, n_gram_counts,\n",
        "                                    n_plus1_gram_counts, vocabulary,\n",
        "                                    k=k, start_with=start_with)\n",
        "        suggestions.append(suggestion)\n",
        "    return suggestions"
      ],
      "metadata": {
        "id": "aMpl2zLvB2Cy"
      },
      "execution_count": 52,
      "outputs": []
    },
    {
      "cell_type": "markdown",
      "source": [
        "#### Suggest multiple words using n-grams of varying length\n",
        "\n",
        "Congratulations!  You have developed all building blocks for implementing your own auto-complete systems.\n",
        "\n",
        "Let's see this with n-grams of varying lengths (unigrams, bigrams, trigrams, 4-grams...6-grams)."
      ],
      "metadata": {
        "id": "RrxVznFnEBYI"
      }
    },
    {
      "cell_type": "code",
      "source": [
        "n_gram_counts_list = []\n",
        "for n in range(1, 6):\n",
        "    print(\"Computing n-gram counts with n =\", n, \"...\")\n",
        "    n_model_counts = count_n_grams(train_data_processed, n)\n",
        "    n_gram_counts_list.append(n_model_counts)"
      ],
      "metadata": {
        "colab": {
          "base_uri": "https://localhost:8080/"
        },
        "id": "vkIotb90COCr",
        "outputId": "aa9f5d0d-19f3-4da1-ddbb-4bcaf18bab58"
      },
      "execution_count": 53,
      "outputs": [
        {
          "output_type": "stream",
          "name": "stdout",
          "text": [
            "Computing n-gram counts with n = 1 ...\n",
            "Computing n-gram counts with n = 2 ...\n",
            "Computing n-gram counts with n = 3 ...\n",
            "Computing n-gram counts with n = 4 ...\n",
            "Computing n-gram counts with n = 5 ...\n"
          ]
        }
      ]
    },
    {
      "cell_type": "code",
      "source": [
        "previous_tokens = [\"i\", \"want\", \"to\", \"go\"]\n",
        "tmp_suggest1 = get_suggestions(previous_tokens, n_gram_counts_list, vocabulary, k=1.0)\n",
        "\n",
        "print(f\"The previous words are {previous_tokens}, the suggestions are:\")\n",
        "display(tmp_suggest1)"
      ],
      "metadata": {
        "colab": {
          "base_uri": "https://localhost:8080/",
          "height": 109
        },
        "id": "C7dNfwzOCCiI",
        "outputId": "85cd618c-89ee-4cf3-8577-441cb5d4f762"
      },
      "execution_count": 54,
      "outputs": [
        {
          "output_type": "stream",
          "name": "stdout",
          "text": [
            "The previous words are ['i', 'want', 'to', 'go'], the suggestions are:\n"
          ]
        },
        {
          "output_type": "display_data",
          "data": {
            "text/plain": [
              "[('to', 0.014029180695847363),\n",
              " ('to', 0.004691733298090266),\n",
              " ('to', 0.0009411764705882353),\n",
              " ('to', 0.0004039044092898014)]"
            ]
          },
          "metadata": {}
        }
      ]
    },
    {
      "cell_type": "code",
      "source": [
        "previous_tokens = [\"hey\", \"how\", \"are\"]\n",
        "tmp_suggest2 = get_suggestions(previous_tokens, n_gram_counts_list, vocabulary, k=1.0)\n",
        "\n",
        "print(f\"The previous words are {previous_tokens}, the suggestions are:\")\n",
        "display(tmp_suggest2)"
      ],
      "metadata": {
        "colab": {
          "base_uri": "https://localhost:8080/",
          "height": 109
        },
        "id": "SjKaH-sZCRIn",
        "outputId": "81b94c2e-8bd5-4f3f-88f6-b3d2e8eb6fe9"
      },
      "execution_count": 55,
      "outputs": [
        {
          "output_type": "stream",
          "name": "stdout",
          "text": [
            "The previous words are ['hey', 'how', 'are'], the suggestions are:\n"
          ]
        },
        {
          "output_type": "display_data",
          "data": {
            "text/plain": [
              "[('you', 0.02334054423317773),\n",
              " ('you', 0.003554661301140174),\n",
              " ('you', 0.00013473457289140393),\n",
              " ('i', 6.737182510274203e-05)]"
            ]
          },
          "metadata": {}
        }
      ]
    },
    {
      "cell_type": "code",
      "source": [],
      "metadata": {
        "id": "ogHo2YDdCXtx"
      },
      "execution_count": null,
      "outputs": []
    }
  ],
  "metadata": {
    "kernelspec": {
      "display_name": "Python 3",
      "language": "python",
      "name": "python3"
    },
    "language_info": {
      "codemirror_mode": {
        "name": "ipython",
        "version": 3
      },
      "file_extension": ".py",
      "mimetype": "text/x-python",
      "name": "python",
      "nbconvert_exporter": "python",
      "pygments_lexer": "ipython3",
      "version": "3.12.7"
    },
    "colab": {
      "provenance": []
    }
  },
  "nbformat": 4,
  "nbformat_minor": 0
}