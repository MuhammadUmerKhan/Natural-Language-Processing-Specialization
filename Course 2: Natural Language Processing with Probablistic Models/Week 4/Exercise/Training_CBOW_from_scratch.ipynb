{
  "cells": [
    {
      "cell_type": "code",
      "execution_count": 33,
      "metadata": {
        "id": "RkqDgki_PbCb"
      },
      "outputs": [],
      "source": [
        "import numpy as np\n",
        "import re\n",
        "import nltk\n",
        "from collections import Counter\n",
        "import spacy\n",
        "import tensorflow as tf\n",
        "from tensorflow.keras import Sequential\n",
        "from tensorflow.keras.layers import Dense\n",
        "import warnings\n",
        "\n",
        "warnings.filterwarnings(\"ignore\")\n",
        "nlp = spacy.load(\"en_core_web_sm\")"
      ]
    },
    {
      "cell_type": "code",
      "execution_count": 2,
      "metadata": {
        "id": "oL2dzrR_vuzA"
      },
      "outputs": [],
      "source": [
        "with open(\"./shakespeare.txt\") as f:\n",
        "    data = f.read()"
      ]
    },
    {
      "cell_type": "code",
      "execution_count": 3,
      "metadata": {
        "colab": {
          "base_uri": "https://localhost:8080/"
        },
        "id": "WHrTOWIByala",
        "outputId": "e742cc2e-b4d6-44d9-de36-80dd3c1f2a90"
      },
      "outputs": [
        {
          "data": {
            "text/plain": [
              "['O for a Muse of fire, that would ascend',\n",
              " 'The brightest heaven of invention,']"
            ]
          },
          "execution_count": 3,
          "metadata": {},
          "output_type": "execute_result"
        }
      ],
      "source": [
        "data.split(\"\\n\")[:2]"
      ]
    },
    {
      "cell_type": "code",
      "execution_count": 4,
      "metadata": {
        "colab": {
          "base_uri": "https://localhost:8080/"
        },
        "id": "Op-dzAZ9xdF-",
        "outputId": "22b4fb8c-38b7-4b74-bc86-4a6e58e40559"
      },
      "outputs": [
        {
          "name": "stdout",
          "output_type": "stream",
          "text": [
            "Number of tokens: 60791 \n",
            " First 15 tokens: ['o', 'for', 'a', 'muse', 'of', 'fire', '.', 'that', 'would', 'ascend', 'the', 'brightest', 'heaven', 'of', 'invention']\n"
          ]
        }
      ],
      "source": [
        "data_sub = re.sub(r\"[,!?;-]\", '.', data)\n",
        "doc = nlp(data_sub)\n",
        "data_token = [token.text.lower() for token in doc if token.is_alpha or token.text == '.']\n",
        "print(\"Number of tokens:\", len(data_token),'\\n', \"First 15 tokens:\", data_token[:15])"
      ]
    },
    {
      "cell_type": "code",
      "execution_count": 5,
      "metadata": {
        "colab": {
          "base_uri": "https://localhost:8080/"
        },
        "id": "BVi7UEUazy0J",
        "outputId": "3d404db4-8de8-4f3d-a569-7d8bd42e2ec5"
      },
      "outputs": [
        {
          "name": "stdout",
          "output_type": "stream",
          "text": [
            "Size of vocabulary:  5659\n",
            "Most frequent tokens:  [('.', 9626), ('the', 1522), ('and', 1394), ('i', 1246), ('to', 1159), ('of', 1093), ('my', 857), ('that', 782), ('in', 772), ('a', 750), ('you', 749), ('not', 560), ('is', 546), ('for', 467), ('it', 460), ('with', 441), ('his', 434), ('but', 417), ('me', 417), ('your', 397)]\n"
          ]
        }
      ],
      "source": [
        "fdist = nltk.FreqDist(word for word in data_token)\n",
        "print(\"Size of vocabulary: \",len(fdist) )\n",
        "print(\"Most frequent tokens: \", fdist.most_common(20) )"
      ]
    },
    {
      "cell_type": "code",
      "execution_count": 6,
      "metadata": {
        "colab": {
          "base_uri": "https://localhost:8080/"
        },
        "id": "xoglvjy50ew1",
        "outputId": "a8a30d57-b3bb-4693-cc7a-1c7ae5af48bf"
      },
      "outputs": [
        {
          "data": {
            "text/plain": [
              "5659"
            ]
          },
          "execution_count": 6,
          "metadata": {},
          "output_type": "execute_result"
        }
      ],
      "source": [
        "word_counts = Counter([word for word in data_token])\n",
        "vocab = list(word_counts.keys())\n",
        "vocab_size = len(vocab)\n",
        "vocab_size"
      ]
    },
    {
      "cell_type": "code",
      "execution_count": 7,
      "metadata": {
        "id": "vbKs6Xhd2sMx"
      },
      "outputs": [],
      "source": [
        "word_to_index = {word: i for i, word in enumerate(vocab)}\n",
        "index_to_word = {i: word for i, word in enumerate(vocab)}"
      ]
    },
    {
      "cell_type": "code",
      "execution_count": 8,
      "metadata": {
        "colab": {
          "base_uri": "https://localhost:8080/"
        },
        "id": "x0VgPg5d3IqV",
        "outputId": "4e82f510-afed-4041-f3fa-2c75f92a6153"
      },
      "outputs": [
        {
          "data": {
            "text/plain": [
              "(177, 'my')"
            ]
          },
          "execution_count": 8,
          "metadata": {},
          "output_type": "execute_result"
        }
      ],
      "source": [
        "word_to_index['my'], index_to_word[177]"
      ]
    },
    {
      "cell_type": "code",
      "execution_count": 9,
      "metadata": {
        "colab": {
          "base_uri": "https://localhost:8080/",
          "height": 35
        },
        "id": "6xQ6eAMP9EZ8",
        "outputId": "7f3aa367-d97b-4867-9e48-e000d10957d1"
      },
      "outputs": [
        {
          "data": {
            "text/plain": [
              "'a'"
            ]
          },
          "execution_count": 9,
          "metadata": {},
          "output_type": "execute_result"
        }
      ],
      "source": [
        "index_to_word[2]"
      ]
    },
    {
      "cell_type": "code",
      "execution_count": 10,
      "metadata": {
        "colab": {
          "base_uri": "https://localhost:8080/"
        },
        "id": "L2J59_sf57iD",
        "outputId": "fe42757f-961e-428b-a9a8-5f8ac382e0fa"
      },
      "outputs": [
        {
          "data": {
            "text/plain": [
              "(2, 60789)"
            ]
          },
          "execution_count": 10,
          "metadata": {},
          "output_type": "execute_result"
        }
      ],
      "source": [
        "2, len(data_token) - 2"
      ]
    },
    {
      "cell_type": "code",
      "execution_count": 11,
      "metadata": {
        "id": "8O8N-vE73jLC"
      },
      "outputs": [],
      "source": [
        "def get_windowa(words, C):\n",
        "  i = C\n",
        "  while i < len(words) - C:\n",
        "    center_word = words[i]\n",
        "    context_words = words[i-C:i] + words[(i+1):(i+C+1)]\n",
        "    yield context_words, center_word\n",
        "    i += 1"
      ]
    },
    {
      "cell_type": "code",
      "execution_count": 12,
      "metadata": {
        "colab": {
          "base_uri": "https://localhost:8080/"
        },
        "id": "yk0m8K_06i28",
        "outputId": "6cc16713-7554-4dca-f9e2-36b217470aa6"
      },
      "outputs": [
        {
          "name": "stdout",
          "output_type": "stream",
          "text": [
            "['o', 'for', 'muse', 'of'] a\n",
            "['for', 'a', 'of', 'fire'] muse\n",
            "['a', 'muse', 'fire', '.'] of\n",
            "['muse', 'of', '.', 'that'] fire\n"
          ]
        }
      ],
      "source": [
        "for x, y in get_windowa(data_token[:8], 2):\n",
        "  print(x, y)"
      ]
    },
    {
      "cell_type": "code",
      "execution_count": 13,
      "metadata": {
        "colab": {
          "base_uri": "https://localhost:8080/"
        },
        "id": "1vcCxyFG8C5s",
        "outputId": "a491d7aa-4a8f-493c-d03a-2f383e6e8aef"
      },
      "outputs": [
        {
          "data": {
            "text/plain": [
              "True"
            ]
          },
          "execution_count": 13,
          "metadata": {},
          "output_type": "execute_result"
        }
      ],
      "source": [
        "len(np.zeros(vocab_size)) == vocab_size"
      ]
    },
    {
      "cell_type": "code",
      "execution_count": 14,
      "metadata": {
        "id": "ML9ekffE8Rms"
      },
      "outputs": [],
      "source": [
        "def word_to_one_hot_vector(word, word_to_index, vocab_size):\n",
        "  one_hot_vector = np.zeros(vocab_size)\n",
        "  one_hot_vector[word_to_index[word]] = 1\n",
        "  return one_hot_vector"
      ]
    },
    {
      "cell_type": "code",
      "execution_count": 15,
      "metadata": {
        "colab": {
          "base_uri": "https://localhost:8080/"
        },
        "id": "FFhDx0SD89vH",
        "outputId": "1e939c3d-3393-436c-ae80-2c30b0acc104"
      },
      "outputs": [
        {
          "data": {
            "text/plain": [
              "array([0., 0., 1., ..., 0., 0., 0.])"
            ]
          },
          "execution_count": 15,
          "metadata": {},
          "output_type": "execute_result"
        }
      ],
      "source": [
        "word_to_one_hot_vector('a', word_to_index, vocab_size)"
      ]
    },
    {
      "cell_type": "code",
      "execution_count": 16,
      "metadata": {
        "colab": {
          "base_uri": "https://localhost:8080/"
        },
        "id": "_3X6pe2E9qeR",
        "outputId": "1c0c79d4-b3a2-4d59-9010-501fc214b633"
      },
      "outputs": [
        {
          "data": {
            "text/plain": [
              "[array([1., 0., 0., ..., 0., 0., 0.]),\n",
              " array([0., 1., 0., ..., 0., 0., 0.]),\n",
              " array([0., 0., 0., ..., 0., 0., 0.]),\n",
              " array([0., 0., 0., ..., 0., 0., 0.])]"
            ]
          },
          "execution_count": 16,
          "metadata": {},
          "output_type": "execute_result"
        }
      ],
      "source": [
        "context_word_eg = ['o', 'for', 'muse', 'of']\n",
        "context_word_eg_vectors = [word_to_one_hot_vector(w, word_to_index, vocab_size) for w in context_word_eg]\n",
        "context_word_eg_vectors"
      ]
    },
    {
      "cell_type": "code",
      "execution_count": 17,
      "metadata": {
        "colab": {
          "base_uri": "https://localhost:8080/"
        },
        "id": "85Zz7VON9y6Y",
        "outputId": "a5648fac-a2ca-4625-d886-615152249c91"
      },
      "outputs": [
        {
          "data": {
            "text/plain": [
              "array([0.25, 0.25, 0.  , ..., 0.  , 0.  , 0.  ])"
            ]
          },
          "execution_count": 17,
          "metadata": {},
          "output_type": "execute_result"
        }
      ],
      "source": [
        "np.mean(context_word_eg_vectors, axis=0)"
      ]
    },
    {
      "cell_type": "code",
      "execution_count": 18,
      "metadata": {
        "id": "qWA7sz2s9AUp"
      },
      "outputs": [],
      "source": [
        "def context_words_to_vector(context_words, word_to_index, vocab_size):\n",
        "  context_words_vectors = [word_to_one_hot_vector(w, word_to_index, vocab_size) for w in context_words]\n",
        "  context_words_vectors = np.mean(context_words_vectors, axis=0)\n",
        "  return context_words_vectors"
      ]
    },
    {
      "cell_type": "code",
      "execution_count": 19,
      "metadata": {
        "colab": {
          "base_uri": "https://localhost:8080/"
        },
        "id": "xRqPpLqz94ws",
        "outputId": "c365219c-1eb6-4184-9893-37925d935f68"
      },
      "outputs": [
        {
          "data": {
            "text/plain": [
              "array([0.25, 0.25, 0.  , ..., 0.  , 0.  , 0.  ])"
            ]
          },
          "execution_count": 19,
          "metadata": {},
          "output_type": "execute_result"
        }
      ],
      "source": [
        "context_words_to_vector(context_word_eg, word_to_index, vocab_size)"
      ]
    },
    {
      "cell_type": "code",
      "execution_count": 20,
      "metadata": {
        "id": "NYSPRPl299VH"
      },
      "outputs": [],
      "source": [
        "def get_training_vectors(words, C, word_to_index, vocab_size):\n",
        "  for context_words, center_word in get_windowa(words, C):\n",
        "    yield context_words_to_vector(context_words, word_to_index, vocab_size), word_to_one_hot_vector(center_word, word_to_index, vocab_size)"
      ]
    },
    {
      "cell_type": "code",
      "execution_count": 21,
      "metadata": {
        "colab": {
          "base_uri": "https://localhost:8080/"
        },
        "id": "-v8lPjD9-bio",
        "outputId": "231af805-09f2-4edd-e3d4-2145723a04c4"
      },
      "outputs": [
        {
          "name": "stdout",
          "output_type": "stream",
          "text": [
            "Context words vector:  [0.25 0.25 0.   ... 0.   0.   0.  ]\n",
            "Center word vector:  [0. 0. 1. ... 0. 0. 0.]\n",
            "\n",
            "Context words vector:  [0.   0.25 0.25 ... 0.   0.   0.  ]\n",
            "Center word vector:  [0. 0. 0. ... 0. 0. 0.]\n",
            "\n",
            "Context words vector:  [0.   0.   0.25 ... 0.   0.   0.  ]\n",
            "Center word vector:  [0. 0. 0. ... 0. 0. 0.]\n",
            "\n",
            "Context words vector:  [0. 0. 0. ... 0. 0. 0.]\n",
            "Center word vector:  [0. 0. 0. ... 0. 0. 0.]\n",
            "\n"
          ]
        }
      ],
      "source": [
        "for context_words_vector, center_word_vector in get_training_vectors(data_token[:8], 2, word_to_index, vocab_size):\n",
        "  print(f'Context words vector:  {context_words_vector}')\n",
        "  print(f'Center word vector:  {center_word_vector}')\n",
        "  print()"
      ]
    },
    {
      "cell_type": "code",
      "execution_count": 22,
      "metadata": {
        "id": "ZkkZQXsx-l5Z"
      },
      "outputs": [],
      "source": [
        "def get_training_data(words, C, word_to_index, vocab_size):\n",
        "  X = []\n",
        "  y = []\n",
        "\n",
        "  for context_words, center_word in get_training_vectors(words, C, word_to_index, vocab_size):\n",
        "    X.append(context_words)\n",
        "    y.append(center_word)\n",
        "  return np.array(X), np.array(y)"
      ]
    },
    {
      "cell_type": "code",
      "execution_count": 23,
      "metadata": {
        "id": "7iJu8NqV_hqt"
      },
      "outputs": [],
      "source": [
        "X, y = get_training_data(data_token, 2, word_to_index, vocab_size)"
      ]
    },
    {
      "cell_type": "code",
      "execution_count": 24,
      "metadata": {
        "id": "iSnE9VqP_m9I"
      },
      "outputs": [
        {
          "name": "stdout",
          "output_type": "stream",
          "text": [
            "Shape of X (input features): (60787, 5659)\n",
            "Shape of Y (output labels): (60787, 5659)\n"
          ]
        }
      ],
      "source": [
        "print(\"Shape of X (input features):\", X.shape)\n",
        "print(\"Shape of Y (output labels):\", y.shape)"
      ]
    },
    {
      "cell_type": "code",
      "execution_count": 29,
      "metadata": {},
      "outputs": [
        {
          "name": "stdout",
          "output_type": "stream",
          "text": [
            "Training data saved!\n"
          ]
        }
      ],
      "source": [
        "np.save(\"X_vectors.npy\", X)\n",
        "np.save(\"y_vectors.npy\", y)\n",
        "\n",
        "print(\"Training data saved!\")"
      ]
    },
    {
      "cell_type": "code",
      "execution_count": 34,
      "metadata": {},
      "outputs": [],
      "source": [
        "embedding_dim = 100  \n",
        "model = Sequential([\n",
        "    Dense(embedding_dim, input_shape = (X.shape[1], ), activation='relu'),\n",
        "    Dense(y.shape[1], activation='softmax')\n",
        "])"
      ]
    },
    {
      "cell_type": "code",
      "execution_count": 35,
      "metadata": {},
      "outputs": [],
      "source": [
        "model.compile(optimizer='adam', loss='categorical_crossentropy', metrics=['accuracy'])"
      ]
    },
    {
      "cell_type": "code",
      "execution_count": null,
      "metadata": {},
      "outputs": [
        {
          "name": "stderr",
          "output_type": "stream",
          "text": [
            "2025-01-24 11:58:04.798150: W external/local_xla/xla/tsl/framework/cpu_allocator_impl.cc:83] Allocation of 1375974532 exceeds 10% of free system memory.\n"
          ]
        }
      ],
      "source": [
        "model.fit(X, y, epochs=10, batch_size=32, verbose=1)"
      ]
    },
    {
      "cell_type": "code",
      "execution_count": null,
      "metadata": {},
      "outputs": [],
      "source": []
    }
  ],
  "metadata": {
    "colab": {
      "provenance": []
    },
    "kernelspec": {
      "display_name": "Python 3",
      "name": "python3"
    },
    "language_info": {
      "codemirror_mode": {
        "name": "ipython",
        "version": 3
      },
      "file_extension": ".py",
      "mimetype": "text/x-python",
      "name": "python",
      "nbconvert_exporter": "python",
      "pygments_lexer": "ipython3",
      "version": "3.12.7"
    }
  },
  "nbformat": 4,
  "nbformat_minor": 0
}
