{
  "cells": [
    {
      "cell_type": "code",
      "execution_count": 1,
      "metadata": {
        "colab": {
          "base_uri": "https://localhost:8080/"
        },
        "id": "yxiJWCEfNjHK",
        "outputId": "5873b426-a77f-4b4c-ea36-0120a70408ef"
      },
      "outputs": [],
      "source": [
        "import matplotlib.pyplot as plt\n",
        "import numpy as np\n",
        "import seaborn as sns\n",
        "from nltk.tokenize import word_tokenize\n",
        "import pandas as pd\n",
        "import spacy\n",
        "import re\n",
        "from sklearn.model_selection import train_test_split\n",
        "from tensorflow.keras.preprocessing.sequence import pad_sequences\n",
        "import tensorflow as tf\n",
        "\n",
        "\n",
        "nlp = spacy.load(\"en_core_web_sm\")"
      ]
    },
    {
      "cell_type": "markdown",
      "metadata": {
        "id": "Ysm_ThCbNF8e"
      },
      "source": [
        "### Context\n",
        "- This is the sentiment140 dataset. It contains 1,600,000 tweets extracted using the twitter api . The tweets have been annotated (0 = negative, 4 = positive) and they can be used to detect sentiment .\n",
        "\n",
        "### Content\n",
        "**It contains the following 6 fields:**\n",
        "\n",
        "- **target: the polarity of the tweet (0 = negative, 2 = neutral, 4 = positive)**\n",
        "- **ids: The id of the tweet ( 2087)**\n",
        "\n",
        "- **date: the date of the tweet (Sat May 16 23:58:44 UTC 2009)**\n",
        "\n",
        "- **flag: The query (lyx). If there is no query, then this value is NO_QUERY.**\n",
        "\n",
        "- **user: the user that tweeted (robotickilldozr)**\n",
        "- **text: the text of the tweet (Lyx is cool)**\n",
        "\n"
      ]
    },
    {
      "cell_type": "code",
      "execution_count": 2,
      "metadata": {
        "colab": {
          "base_uri": "https://localhost:8080/"
        },
        "id": "24yM8BRyHIzh",
        "outputId": "b55b04aa-336d-4c4f-ca51-c913411ba8e6"
      },
      "outputs": [],
      "source": [
        "!mkdir -p ~/.kaggle\n",
        "!cp kaggle.json ~/.kaggle/\n",
        "!chmod 600 ~/.kaggle/kaggle.json"
      ]
    },
    {
      "cell_type": "code",
      "execution_count": 3,
      "metadata": {
        "colab": {
          "base_uri": "https://localhost:8080/"
        },
        "id": "HXnD_YFfIOS7",
        "outputId": "3ff20abd-a4f8-4c22-d69c-652d5cdf0619"
      },
      "outputs": [
        {
          "name": "stdout",
          "output_type": "stream",
          "text": [
            "Dataset URL: https://www.kaggle.com/datasets/crowdflower/twitter-airline-sentiment\n",
            "License(s): CC-BY-NC-SA-4.0\n",
            "twitter-airline-sentiment.zip: Skipping, found more recently modified local copy (use --force to force download)\n"
          ]
        }
      ],
      "source": [
        "!kaggle datasets download -d crowdflower/twitter-airline-sentiment"
      ]
    },
    {
      "cell_type": "code",
      "execution_count": 4,
      "metadata": {
        "colab": {
          "base_uri": "https://localhost:8080/"
        },
        "id": "hhXtX30cImS5",
        "outputId": "f5cd32ef-5ae6-480a-eec8-0698097b394f"
      },
      "outputs": [
        {
          "name": "stdout",
          "output_type": "stream",
          "text": [
            "Archive:  twitter-airline-sentiment.zip\n",
            "replace Tweets.csv? [y]es, [n]o, [A]ll, [N]one, [r]ename: ^C\n"
          ]
        }
      ],
      "source": [
        "!unzip twitter-airline-sentiment.zip"
      ]
    },
    {
      "cell_type": "code",
      "execution_count": 3,
      "metadata": {
        "colab": {
          "base_uri": "https://localhost:8080/",
          "height": 206
        },
        "id": "egu9dbJAIoFs",
        "outputId": "384bc66c-383f-4b4a-e39b-9e91b34bd98c"
      },
      "outputs": [],
      "source": [
        "data = pd.read_csv(\"Tweets.csv\")"
      ]
    },
    {
      "cell_type": "code",
      "execution_count": 4,
      "metadata": {},
      "outputs": [],
      "source": [
        "data = data[['airline_sentiment', 'airline_sentiment_confidence', 'airline', 'retweet_count', 'text']]"
      ]
    },
    {
      "cell_type": "code",
      "execution_count": 5,
      "metadata": {},
      "outputs": [
        {
          "data": {
            "text/html": [
              "<div>\n",
              "<style scoped>\n",
              "    .dataframe tbody tr th:only-of-type {\n",
              "        vertical-align: middle;\n",
              "    }\n",
              "\n",
              "    .dataframe tbody tr th {\n",
              "        vertical-align: top;\n",
              "    }\n",
              "\n",
              "    .dataframe thead th {\n",
              "        text-align: right;\n",
              "    }\n",
              "</style>\n",
              "<table border=\"1\" class=\"dataframe\">\n",
              "  <thead>\n",
              "    <tr style=\"text-align: right;\">\n",
              "      <th></th>\n",
              "      <th>airline_sentiment</th>\n",
              "      <th>airline_sentiment_confidence</th>\n",
              "      <th>airline</th>\n",
              "      <th>retweet_count</th>\n",
              "      <th>text</th>\n",
              "    </tr>\n",
              "  </thead>\n",
              "  <tbody>\n",
              "    <tr>\n",
              "      <th>0</th>\n",
              "      <td>neutral</td>\n",
              "      <td>1.0000</td>\n",
              "      <td>Virgin America</td>\n",
              "      <td>0</td>\n",
              "      <td>@VirginAmerica What @dhepburn said.</td>\n",
              "    </tr>\n",
              "    <tr>\n",
              "      <th>1</th>\n",
              "      <td>positive</td>\n",
              "      <td>0.3486</td>\n",
              "      <td>Virgin America</td>\n",
              "      <td>0</td>\n",
              "      <td>@VirginAmerica plus you've added commercials t...</td>\n",
              "    </tr>\n",
              "    <tr>\n",
              "      <th>2</th>\n",
              "      <td>neutral</td>\n",
              "      <td>0.6837</td>\n",
              "      <td>Virgin America</td>\n",
              "      <td>0</td>\n",
              "      <td>@VirginAmerica I didn't today... Must mean I n...</td>\n",
              "    </tr>\n",
              "    <tr>\n",
              "      <th>3</th>\n",
              "      <td>negative</td>\n",
              "      <td>1.0000</td>\n",
              "      <td>Virgin America</td>\n",
              "      <td>0</td>\n",
              "      <td>@VirginAmerica it's really aggressive to blast...</td>\n",
              "    </tr>\n",
              "    <tr>\n",
              "      <th>4</th>\n",
              "      <td>negative</td>\n",
              "      <td>1.0000</td>\n",
              "      <td>Virgin America</td>\n",
              "      <td>0</td>\n",
              "      <td>@VirginAmerica and it's a really big bad thing...</td>\n",
              "    </tr>\n",
              "  </tbody>\n",
              "</table>\n",
              "</div>"
            ],
            "text/plain": [
              "  airline_sentiment  airline_sentiment_confidence         airline  \\\n",
              "0           neutral                        1.0000  Virgin America   \n",
              "1          positive                        0.3486  Virgin America   \n",
              "2           neutral                        0.6837  Virgin America   \n",
              "3          negative                        1.0000  Virgin America   \n",
              "4          negative                        1.0000  Virgin America   \n",
              "\n",
              "   retweet_count                                               text  \n",
              "0              0                @VirginAmerica What @dhepburn said.  \n",
              "1              0  @VirginAmerica plus you've added commercials t...  \n",
              "2              0  @VirginAmerica I didn't today... Must mean I n...  \n",
              "3              0  @VirginAmerica it's really aggressive to blast...  \n",
              "4              0  @VirginAmerica and it's a really big bad thing...  "
            ]
          },
          "execution_count": 5,
          "metadata": {},
          "output_type": "execute_result"
        }
      ],
      "source": [
        "data.head()"
      ]
    },
    {
      "cell_type": "code",
      "execution_count": 6,
      "metadata": {
        "colab": {
          "base_uri": "https://localhost:8080/"
        },
        "id": "d4vj-FNJIt20",
        "outputId": "205bc068-68ce-4adc-93b5-4a8a2c426b23"
      },
      "outputs": [
        {
          "data": {
            "text/plain": [
              "(14640, 5)"
            ]
          },
          "execution_count": 6,
          "metadata": {},
          "output_type": "execute_result"
        }
      ],
      "source": [
        "data.shape"
      ]
    },
    {
      "cell_type": "code",
      "execution_count": 7,
      "metadata": {
        "colab": {
          "base_uri": "https://localhost:8080/",
          "height": 272
        },
        "id": "pi5ktuU-MzoP",
        "outputId": "995a5ba8-f6fa-47d2-b989-a19aeb9366fd"
      },
      "outputs": [
        {
          "data": {
            "text/plain": [
              "airline_sentiment               0\n",
              "airline_sentiment_confidence    0\n",
              "airline                         0\n",
              "retweet_count                   0\n",
              "text                            0\n",
              "dtype: int64"
            ]
          },
          "execution_count": 7,
          "metadata": {},
          "output_type": "execute_result"
        }
      ],
      "source": [
        "data.isna().sum()"
      ]
    },
    {
      "cell_type": "code",
      "execution_count": 8,
      "metadata": {
        "id": "6DXMPnwPNrYu"
      },
      "outputs": [],
      "source": [
        "data['airline_sentiment'] = data['airline_sentiment'].map({\n",
        "    \"positive\": 'Positive',\n",
        "    \"neutral\": 'Neutral',\n",
        "    \"negative\": 'Negative'\n",
        "})"
      ]
    },
    {
      "cell_type": "code",
      "execution_count": 9,
      "metadata": {},
      "outputs": [],
      "source": [
        "data['airline_sentiment_labelled'] = data['airline_sentiment'].map({'Positive': 1, 'Neutral': 0, 'Negative': 2})"
      ]
    },
    {
      "cell_type": "code",
      "execution_count": 10,
      "metadata": {
        "colab": {
          "base_uri": "https://localhost:8080/"
        },
        "id": "CSR8CdCQO35u",
        "outputId": "ff40038b-8018-434d-a33c-b2ae0ef8e965"
      },
      "outputs": [
        {
          "name": "stdout",
          "output_type": "stream",
          "text": [
            "<class 'pandas.core.frame.DataFrame'>\n",
            "RangeIndex: 14640 entries, 0 to 14639\n",
            "Data columns (total 6 columns):\n",
            " #   Column                        Non-Null Count  Dtype  \n",
            "---  ------                        --------------  -----  \n",
            " 0   airline_sentiment             14640 non-null  object \n",
            " 1   airline_sentiment_confidence  14640 non-null  float64\n",
            " 2   airline                       14640 non-null  object \n",
            " 3   retweet_count                 14640 non-null  int64  \n",
            " 4   text                          14640 non-null  object \n",
            " 5   airline_sentiment_labelled    14640 non-null  int64  \n",
            "dtypes: float64(1), int64(2), object(3)\n",
            "memory usage: 686.4+ KB\n"
          ]
        }
      ],
      "source": [
        "data.info()"
      ]
    },
    {
      "cell_type": "code",
      "execution_count": 11,
      "metadata": {},
      "outputs": [
        {
          "data": {
            "text/plain": [
              "airline_sentiment\n",
              "Negative    9178\n",
              "Neutral     3099\n",
              "Positive    2363\n",
              "Name: count, dtype: int64"
            ]
          },
          "execution_count": 11,
          "metadata": {},
          "output_type": "execute_result"
        }
      ],
      "source": [
        "data['airline_sentiment'].value_counts()"
      ]
    },
    {
      "cell_type": "code",
      "execution_count": 12,
      "metadata": {
        "colab": {
          "base_uri": "https://localhost:8080/",
          "height": 472
        },
        "id": "Z_7XwfuDM84I",
        "outputId": "c8dac526-511d-45d7-e854-f6ec95cfd393"
      },
      "outputs": [
        {
          "name": "stderr",
          "output_type": "stream",
          "text": [
            "/var/folders/3r/s5g8pkxj3zq5lhhklkgsdfwm0000gn/T/ipykernel_87346/3757371829.py:3: UserWarning: \n",
            "The palette list has fewer values (2) than needed (3) and will cycle, which may produce an uninterpretable plot.\n",
            "  sns.countplot(x='airline_sentiment',  hue='airline_sentiment', palette=['#05ddf5', '#de0bc2'], edgecolor='black', data=data)\n"
          ]
        },
        {
          "data": {
            "image/png": "[encoded data removed]",
            "text/plain": [
              "<Figure size 640x480 with 1 Axes>"
            ]
          },
          "metadata": {},
          "output_type": "display_data"
        }
      ],
      "source": [
        "plt.style.use('dark_background')\n",
        "plt.title(\"Negative vs Positive vs Neutral Count\")\n",
        "sns.countplot(x='airline_sentiment',  hue='airline_sentiment', palette=['#05ddf5', '#de0bc2'], edgecolor='black', data=data)\n",
        "plt.xlabel(\"Sentiment\")\n",
        "plt.ylabel(\"Count\")\n",
        "plt.show()"
      ]
    },
    {
      "cell_type": "code",
      "execution_count": 13,
      "metadata": {
        "id": "lVfWOIUNNbYC"
      },
      "outputs": [],
      "source": [
        "def process_tweet(tweet):\n",
        "    doc = nlp(tweet.lower())\n",
        "\n",
        "    tokens = [\n",
        "        token.text for token in doc\n",
        "        if not token.is_punct  # Remove punctuation\n",
        "        and not token.is_space  # Remove extra spaces\n",
        "        and not token.like_url  # Remove URLs\n",
        "        and not token.like_email  # Remove email addresses (if needed)\n",
        "        and not token.text.startswith('@')  # Remove mentions\n",
        "        and (token.is_alpha or token.is_digit)  # Keep alphanumeric tokens\n",
        "    ]\n",
        "\n",
        "    return tokens\n",
        "\n",
        "def preprocess(text):\n",
        "    doc = nlp(text.lower())\n",
        "    cleaned_tokens = [\n",
        "        token.lemma_\n",
        "        for token in doc\n",
        "        if not token.is_stop and not token.is_punct and token.is_alpha and not token.text.startswith('@')\n",
        "    ]\n",
        "    return \" \".join(cleaned_tokens)"
      ]
    },
    {
      "cell_type": "code",
      "execution_count": 14,
      "metadata": {
        "colab": {
          "base_uri": "https://localhost:8080/",
          "height": 336
        },
        "id": "mWNCq_5fP0k0",
        "outputId": "36d835e4-e935-4079-adb6-9e23de1994c4"
      },
      "outputs": [],
      "source": [
        "data['Processed_text'] = data['text'].apply(preprocess)"
      ]
    },
    {
      "cell_type": "code",
      "execution_count": 15,
      "metadata": {},
      "outputs": [
        {
          "data": {
            "text/html": [
              "<div>\n",
              "<style scoped>\n",
              "    .dataframe tbody tr th:only-of-type {\n",
              "        vertical-align: middle;\n",
              "    }\n",
              "\n",
              "    .dataframe tbody tr th {\n",
              "        vertical-align: top;\n",
              "    }\n",
              "\n",
              "    .dataframe thead th {\n",
              "        text-align: right;\n",
              "    }\n",
              "</style>\n",
              "<table border=\"1\" class=\"dataframe\">\n",
              "  <thead>\n",
              "    <tr style=\"text-align: right;\">\n",
              "      <th></th>\n",
              "      <th>airline_sentiment</th>\n",
              "      <th>airline_sentiment_confidence</th>\n",
              "      <th>airline</th>\n",
              "      <th>retweet_count</th>\n",
              "      <th>text</th>\n",
              "      <th>airline_sentiment_labelled</th>\n",
              "      <th>Processed_text</th>\n",
              "    </tr>\n",
              "  </thead>\n",
              "  <tbody>\n",
              "    <tr>\n",
              "      <th>0</th>\n",
              "      <td>Neutral</td>\n",
              "      <td>1.0000</td>\n",
              "      <td>Virgin America</td>\n",
              "      <td>0</td>\n",
              "      <td>@VirginAmerica What @dhepburn said.</td>\n",
              "      <td>0</td>\n",
              "      <td>say</td>\n",
              "    </tr>\n",
              "    <tr>\n",
              "      <th>1</th>\n",
              "      <td>Positive</td>\n",
              "      <td>0.3486</td>\n",
              "      <td>Virgin America</td>\n",
              "      <td>0</td>\n",
              "      <td>@VirginAmerica plus you've added commercials t...</td>\n",
              "      <td>1</td>\n",
              "      <td>plus add commercial experience tacky</td>\n",
              "    </tr>\n",
              "    <tr>\n",
              "      <th>2</th>\n",
              "      <td>Neutral</td>\n",
              "      <td>0.6837</td>\n",
              "      <td>Virgin America</td>\n",
              "      <td>0</td>\n",
              "      <td>@VirginAmerica I didn't today... Must mean I n...</td>\n",
              "      <td>0</td>\n",
              "      <td>today mean need trip</td>\n",
              "    </tr>\n",
              "    <tr>\n",
              "      <th>3</th>\n",
              "      <td>Negative</td>\n",
              "      <td>1.0000</td>\n",
              "      <td>Virgin America</td>\n",
              "      <td>0</td>\n",
              "      <td>@VirginAmerica it's really aggressive to blast...</td>\n",
              "      <td>2</td>\n",
              "      <td>aggressive blast obnoxious entertainment guest...</td>\n",
              "    </tr>\n",
              "    <tr>\n",
              "      <th>4</th>\n",
              "      <td>Negative</td>\n",
              "      <td>1.0000</td>\n",
              "      <td>Virgin America</td>\n",
              "      <td>0</td>\n",
              "      <td>@VirginAmerica and it's a really big bad thing...</td>\n",
              "      <td>2</td>\n",
              "      <td>big bad thing</td>\n",
              "    </tr>\n",
              "  </tbody>\n",
              "</table>\n",
              "</div>"
            ],
            "text/plain": [
              "  airline_sentiment  airline_sentiment_confidence         airline  \\\n",
              "0           Neutral                        1.0000  Virgin America   \n",
              "1          Positive                        0.3486  Virgin America   \n",
              "2           Neutral                        0.6837  Virgin America   \n",
              "3          Negative                        1.0000  Virgin America   \n",
              "4          Negative                        1.0000  Virgin America   \n",
              "\n",
              "   retweet_count                                               text  \\\n",
              "0              0                @VirginAmerica What @dhepburn said.   \n",
              "1              0  @VirginAmerica plus you've added commercials t...   \n",
              "2              0  @VirginAmerica I didn't today... Must mean I n...   \n",
              "3              0  @VirginAmerica it's really aggressive to blast...   \n",
              "4              0  @VirginAmerica and it's a really big bad thing...   \n",
              "\n",
              "   airline_sentiment_labelled  \\\n",
              "0                           0   \n",
              "1                           1   \n",
              "2                           0   \n",
              "3                           2   \n",
              "4                           2   \n",
              "\n",
              "                                      Processed_text  \n",
              "0                                                say  \n",
              "1               plus add commercial experience tacky  \n",
              "2                               today mean need trip  \n",
              "3  aggressive blast obnoxious entertainment guest...  \n",
              "4                                      big bad thing  "
            ]
          },
          "execution_count": 15,
          "metadata": {},
          "output_type": "execute_result"
        }
      ],
      "source": [
        "data.head()"
      ]
    },
    {
      "cell_type": "code",
      "execution_count": 16,
      "metadata": {},
      "outputs": [],
      "source": [
        "X_train, X_test, y_train, y_test = train_test_split(data['Processed_text'], data['airline_sentiment_labelled'], test_size=0.2, random_state=42)"
      ]
    },
    {
      "cell_type": "code",
      "execution_count": 17,
      "metadata": {},
      "outputs": [
        {
          "name": "stdout",
          "output_type": "stream",
          "text": [
            "Loaded 400000 word vectors.\n"
          ]
        }
      ],
      "source": [
        "embedding_dim = 100\n",
        "embedding_path = \"/Users/innovationinsight/Desktop/Umer/glove.6B/glove.6B.100d.txt\"\n",
        "\n",
        "def load_embeddings(path):\n",
        "    embeddings = {}\n",
        "    with open(path, \"r\", encoding=\"utf-8\") as f:\n",
        "        for line in f:\n",
        "            values = line.split()\n",
        "            word = values[0]\n",
        "            vector = np.asarray(values[1:], dtype=\"float32\")\n",
        "            embeddings[word] = vector\n",
        "    return embeddings\n",
        "\n",
        "embeddings_index = load_embeddings(embedding_path)\n",
        "print(f\"Loaded {len(embeddings_index)} word vectors.\")"
      ]
    },
    {
      "cell_type": "code",
      "execution_count": 18,
      "metadata": {
        "id": "WqnpEpdyb4Ry"
      },
      "outputs": [],
      "source": [
        "def text_to_embedding(text, embeddings_index, embedding_dim):\n",
        "    doc = nlp(text)\n",
        "    vectors = [\n",
        "        embeddings_index.get(token.text, np.zeros(embedding_dim))\n",
        "        for token in doc\n",
        "    ]\n",
        "    return vectors\n",
        "\n",
        "def vectorize_texts(texts, embeddings_index, embedding_dim, max_len):\n",
        "    sequences = [text_to_embedding(text, embeddings_index, embedding_dim) for text in texts]\n",
        "    padded_sequences = pad_sequences(sequences, maxlen=max_len, dtype=\"float32\", padding=\"post\", truncating=\"post\")\n",
        "    return padded_sequences"
      ]
    },
    {
      "cell_type": "code",
      "execution_count": 19,
      "metadata": {},
      "outputs": [],
      "source": [
        "max_len = 50\n",
        "X_train_vec = vectorize_texts(X_train, embeddings_index, embedding_dim, max_len)\n",
        "X_test_vec = vectorize_texts(X_test, embeddings_index, embedding_dim, max_len)"
      ]
    },
    {
      "cell_type": "code",
      "execution_count": 20,
      "metadata": {},
      "outputs": [
        {
          "data": {
            "text/plain": [
              "((11712, 50, 100), (2928, 50, 100))"
            ]
          },
          "execution_count": 20,
          "metadata": {},
          "output_type": "execute_result"
        }
      ],
      "source": [
        "X_train_vec.shape, X_test_vec.shape"
      ]
    },
    {
      "cell_type": "code",
      "execution_count": 27,
      "metadata": {},
      "outputs": [],
      "source": [
        "def create_dense_model(embedding_dim, max_len):\n",
        "    model = tf.keras.models.Sequential([\n",
        "        # Input Layer (Flatten the embeddings)\n",
        "        tf.keras.layers.Input(shape=(max_len, embedding_dim)),\n",
        "        tf.keras.layers.Flatten(),\n",
        "\n",
        "        # Fully Connected Layers\n",
        "        tf.keras.layers.Dense(256, activation=\"relu\"),\n",
        "        tf.keras.layers.Dropout(0.5),\n",
        "        \n",
        "        tf.keras.layers.Dense(128, activation=\"relu\"),\n",
        "        tf.keras.layers.Dropout(0.3),\n",
        "        \n",
        "        tf.keras.layers.Dense(64, activation=\"relu\"),\n",
        "        tf.keras.layers.Dropout(0.2),\n",
        "        \n",
        "        # Output Layer (Softmax for multi-class classification)\n",
        "        tf.keras.layers.Dense(3, activation=\"softmax\")\n",
        "    ])\n",
        "\n",
        "    # Compile the Model\n",
        "    model.compile(\n",
        "        loss=\"sparse_categorical_crossentropy\",\n",
        "        optimizer=tf.keras.optimizers.Adam(learning_rate=0.001),\n",
        "        metrics=[\"accuracy\"]\n",
        "    )\n",
        "    return model\n"
      ]
    },
    {
      "cell_type": "code",
      "execution_count": 28,
      "metadata": {},
      "outputs": [
        {
          "data": {
            "text/html": [
              "<pre style=\"white-space:pre;overflow-x:auto;line-height:normal;font-family:Menlo,'DejaVu Sans Mono',consolas,'Courier New',monospace\"><span style=\"font-weight: bold\">Model: \"sequential_1\"</span>\n",
              "</pre>\n"
            ],
            "text/plain": [
              "\u001b[1mModel: \"sequential_1\"\u001b[0m\n"
            ]
          },
          "metadata": {},
          "output_type": "display_data"
        },
        {
          "data": {
            "text/html": [
              "<pre style=\"white-space:pre;overflow-x:auto;line-height:normal;font-family:Menlo,'DejaVu Sans Mono',consolas,'Courier New',monospace\">┏━━━━━━━━━━━━━━━━━━━━━━━━━━━━━━━━━┳━━━━━━━━━━━━━━━━━━━━━━━━┳━━━━━━━━━━━━━━━┓\n",
              "┃<span style=\"font-weight: bold\"> Layer (type)                    </span>┃<span style=\"font-weight: bold\"> Output Shape           </span>┃<span style=\"font-weight: bold\">       Param # </span>┃\n",
              "┡━━━━━━━━━━━━━━━━━━━━━━━━━━━━━━━━━╇━━━━━━━━━━━━━━━━━━━━━━━━╇━━━━━━━━━━━━━━━┩\n",
              "│ bidirectional_1 (<span style=\"color: #0087ff; text-decoration-color: #0087ff\">Bidirectional</span>) │ (<span style=\"color: #00d7ff; text-decoration-color: #00d7ff\">None</span>, <span style=\"color: #00af00; text-decoration-color: #00af00\">50</span>, <span style=\"color: #00af00; text-decoration-color: #00af00\">256</span>)        │       <span style=\"color: #00af00; text-decoration-color: #00af00\">234,496</span> │\n",
              "├─────────────────────────────────┼────────────────────────┼───────────────┤\n",
              "│ bidirectional_2 (<span style=\"color: #0087ff; text-decoration-color: #0087ff\">Bidirectional</span>) │ (<span style=\"color: #00d7ff; text-decoration-color: #00d7ff\">None</span>, <span style=\"color: #00af00; text-decoration-color: #00af00\">50</span>, <span style=\"color: #00af00; text-decoration-color: #00af00\">128</span>)        │       <span style=\"color: #00af00; text-decoration-color: #00af00\">164,352</span> │\n",
              "├─────────────────────────────────┼────────────────────────┼───────────────┤\n",
              "│ global_average_pooling1d_1      │ (<span style=\"color: #00d7ff; text-decoration-color: #00d7ff\">None</span>, <span style=\"color: #00af00; text-decoration-color: #00af00\">128</span>)            │             <span style=\"color: #00af00; text-decoration-color: #00af00\">0</span> │\n",
              "│ (<span style=\"color: #0087ff; text-decoration-color: #0087ff\">GlobalAveragePooling1D</span>)        │                        │               │\n",
              "├─────────────────────────────────┼────────────────────────┼───────────────┤\n",
              "│ dense_2 (<span style=\"color: #0087ff; text-decoration-color: #0087ff\">Dense</span>)                 │ (<span style=\"color: #00d7ff; text-decoration-color: #00d7ff\">None</span>, <span style=\"color: #00af00; text-decoration-color: #00af00\">128</span>)            │        <span style=\"color: #00af00; text-decoration-color: #00af00\">16,512</span> │\n",
              "├─────────────────────────────────┼────────────────────────┼───────────────┤\n",
              "│ dropout (<span style=\"color: #0087ff; text-decoration-color: #0087ff\">Dropout</span>)               │ (<span style=\"color: #00d7ff; text-decoration-color: #00d7ff\">None</span>, <span style=\"color: #00af00; text-decoration-color: #00af00\">128</span>)            │             <span style=\"color: #00af00; text-decoration-color: #00af00\">0</span> │\n",
              "├─────────────────────────────────┼────────────────────────┼───────────────┤\n",
              "│ dense_3 (<span style=\"color: #0087ff; text-decoration-color: #0087ff\">Dense</span>)                 │ (<span style=\"color: #00d7ff; text-decoration-color: #00d7ff\">None</span>, <span style=\"color: #00af00; text-decoration-color: #00af00\">64</span>)             │         <span style=\"color: #00af00; text-decoration-color: #00af00\">8,256</span> │\n",
              "├─────────────────────────────────┼────────────────────────┼───────────────┤\n",
              "│ dropout_1 (<span style=\"color: #0087ff; text-decoration-color: #0087ff\">Dropout</span>)             │ (<span style=\"color: #00d7ff; text-decoration-color: #00d7ff\">None</span>, <span style=\"color: #00af00; text-decoration-color: #00af00\">64</span>)             │             <span style=\"color: #00af00; text-decoration-color: #00af00\">0</span> │\n",
              "├─────────────────────────────────┼────────────────────────┼───────────────┤\n",
              "│ dense_4 (<span style=\"color: #0087ff; text-decoration-color: #0087ff\">Dense</span>)                 │ (<span style=\"color: #00d7ff; text-decoration-color: #00d7ff\">None</span>, <span style=\"color: #00af00; text-decoration-color: #00af00\">3</span>)              │           <span style=\"color: #00af00; text-decoration-color: #00af00\">195</span> │\n",
              "└─────────────────────────────────┴────────────────────────┴───────────────┘\n",
              "</pre>\n"
            ],
            "text/plain": [
              "┏━━━━━━━━━━━━━━━━━━━━━━━━━━━━━━━━━┳━━━━━━━━━━━━━━━━━━━━━━━━┳━━━━━━━━━━━━━━━┓\n",
              "┃\u001b[1m \u001b[0m\u001b[1mLayer (type)                   \u001b[0m\u001b[1m \u001b[0m┃\u001b[1m \u001b[0m\u001b[1mOutput Shape          \u001b[0m\u001b[1m \u001b[0m┃\u001b[1m \u001b[0m\u001b[1m      Param #\u001b[0m\u001b[1m \u001b[0m┃\n",
              "┡━━━━━━━━━━━━━━━━━━━━━━━━━━━━━━━━━╇━━━━━━━━━━━━━━━━━━━━━━━━╇━━━━━━━━━━━━━━━┩\n",
              "│ bidirectional_1 (\u001b[38;5;33mBidirectional\u001b[0m) │ (\u001b[38;5;45mNone\u001b[0m, \u001b[38;5;34m50\u001b[0m, \u001b[38;5;34m256\u001b[0m)        │       \u001b[38;5;34m234,496\u001b[0m │\n",
              "├─────────────────────────────────┼────────────────────────┼───────────────┤\n",
              "│ bidirectional_2 (\u001b[38;5;33mBidirectional\u001b[0m) │ (\u001b[38;5;45mNone\u001b[0m, \u001b[38;5;34m50\u001b[0m, \u001b[38;5;34m128\u001b[0m)        │       \u001b[38;5;34m164,352\u001b[0m │\n",
              "├─────────────────────────────────┼────────────────────────┼───────────────┤\n",
              "│ global_average_pooling1d_1      │ (\u001b[38;5;45mNone\u001b[0m, \u001b[38;5;34m128\u001b[0m)            │             \u001b[38;5;34m0\u001b[0m │\n",
              "│ (\u001b[38;5;33mGlobalAveragePooling1D\u001b[0m)        │                        │               │\n",
              "├─────────────────────────────────┼────────────────────────┼───────────────┤\n",
              "│ dense_2 (\u001b[38;5;33mDense\u001b[0m)                 │ (\u001b[38;5;45mNone\u001b[0m, \u001b[38;5;34m128\u001b[0m)            │        \u001b[38;5;34m16,512\u001b[0m │\n",
              "├─────────────────────────────────┼────────────────────────┼───────────────┤\n",
              "│ dropout (\u001b[38;5;33mDropout\u001b[0m)               │ (\u001b[38;5;45mNone\u001b[0m, \u001b[38;5;34m128\u001b[0m)            │             \u001b[38;5;34m0\u001b[0m │\n",
              "├─────────────────────────────────┼────────────────────────┼───────────────┤\n",
              "│ dense_3 (\u001b[38;5;33mDense\u001b[0m)                 │ (\u001b[38;5;45mNone\u001b[0m, \u001b[38;5;34m64\u001b[0m)             │         \u001b[38;5;34m8,256\u001b[0m │\n",
              "├─────────────────────────────────┼────────────────────────┼───────────────┤\n",
              "│ dropout_1 (\u001b[38;5;33mDropout\u001b[0m)             │ (\u001b[38;5;45mNone\u001b[0m, \u001b[38;5;34m64\u001b[0m)             │             \u001b[38;5;34m0\u001b[0m │\n",
              "├─────────────────────────────────┼────────────────────────┼───────────────┤\n",
              "│ dense_4 (\u001b[38;5;33mDense\u001b[0m)                 │ (\u001b[38;5;45mNone\u001b[0m, \u001b[38;5;34m3\u001b[0m)              │           \u001b[38;5;34m195\u001b[0m │\n",
              "└─────────────────────────────────┴────────────────────────┴───────────────┘\n"
            ]
          },
          "metadata": {},
          "output_type": "display_data"
        },
        {
          "data": {
            "text/html": [
              "<pre style=\"white-space:pre;overflow-x:auto;line-height:normal;font-family:Menlo,'DejaVu Sans Mono',consolas,'Courier New',monospace\"><span style=\"font-weight: bold\"> Total params: </span><span style=\"color: #00af00; text-decoration-color: #00af00\">423,811</span> (1.62 MB)\n",
              "</pre>\n"
            ],
            "text/plain": [
              "\u001b[1m Total params: \u001b[0m\u001b[38;5;34m423,811\u001b[0m (1.62 MB)\n"
            ]
          },
          "metadata": {},
          "output_type": "display_data"
        },
        {
          "data": {
            "text/html": [
              "<pre style=\"white-space:pre;overflow-x:auto;line-height:normal;font-family:Menlo,'DejaVu Sans Mono',consolas,'Courier New',monospace\"><span style=\"font-weight: bold\"> Trainable params: </span><span style=\"color: #00af00; text-decoration-color: #00af00\">423,811</span> (1.62 MB)\n",
              "</pre>\n"
            ],
            "text/plain": [
              "\u001b[1m Trainable params: \u001b[0m\u001b[38;5;34m423,811\u001b[0m (1.62 MB)\n"
            ]
          },
          "metadata": {},
          "output_type": "display_data"
        },
        {
          "data": {
            "text/html": [
              "<pre style=\"white-space:pre;overflow-x:auto;line-height:normal;font-family:Menlo,'DejaVu Sans Mono',consolas,'Courier New',monospace\"><span style=\"font-weight: bold\"> Non-trainable params: </span><span style=\"color: #00af00; text-decoration-color: #00af00\">0</span> (0.00 B)\n",
              "</pre>\n"
            ],
            "text/plain": [
              "\u001b[1m Non-trainable params: \u001b[0m\u001b[38;5;34m0\u001b[0m (0.00 B)\n"
            ]
          },
          "metadata": {},
          "output_type": "display_data"
        }
      ],
      "source": [
        "model = create_model(embedding_dim, max_len)\n",
        "model.summary()"
      ]
    },
    {
      "cell_type": "code",
      "execution_count": 29,
      "metadata": {},
      "outputs": [
        {
          "name": "stdout",
          "output_type": "stream",
          "text": [
            "Epoch 1/10\n",
            "\u001b[1m366/366\u001b[0m \u001b[32m━━━━━━━━━━━━━━━━━━━━\u001b[0m\u001b[37m\u001b[0m \u001b[1m61s\u001b[0m 159ms/step - accuracy: 0.6458 - loss: 0.8209 - val_accuracy: 0.7298 - val_loss: 0.6395\n",
            "Epoch 2/10\n",
            "\u001b[1m366/366\u001b[0m \u001b[32m━━━━━━━━━━━━━━━━━━━━\u001b[0m\u001b[37m\u001b[0m \u001b[1m66s\u001b[0m 179ms/step - accuracy: 0.7312 - loss: 0.6634 - val_accuracy: 0.7640 - val_loss: 0.5775\n",
            "Epoch 3/10\n",
            "\u001b[1m366/366\u001b[0m \u001b[32m━━━━━━━━━━━━━━━━━━━━\u001b[0m\u001b[37m\u001b[0m \u001b[1m67s\u001b[0m 182ms/step - accuracy: 0.7487 - loss: 0.6191 - val_accuracy: 0.7643 - val_loss: 0.5753\n",
            "Epoch 4/10\n",
            "\u001b[1m366/366\u001b[0m \u001b[32m━━━━━━━━━━━━━━━━━━━━\u001b[0m\u001b[37m\u001b[0m \u001b[1m67s\u001b[0m 184ms/step - accuracy: 0.7568 - loss: 0.5959 - val_accuracy: 0.7739 - val_loss: 0.5433\n",
            "Epoch 5/10\n",
            "\u001b[1m366/366\u001b[0m \u001b[32m━━━━━━━━━━━━━━━━━━━━\u001b[0m\u001b[37m\u001b[0m \u001b[1m65s\u001b[0m 178ms/step - accuracy: 0.7690 - loss: 0.5729 - val_accuracy: 0.7783 - val_loss: 0.5391\n",
            "Epoch 6/10\n",
            "\u001b[1m366/366\u001b[0m \u001b[32m━━━━━━━━━━━━━━━━━━━━\u001b[0m\u001b[37m\u001b[0m \u001b[1m68s\u001b[0m 186ms/step - accuracy: 0.7812 - loss: 0.5482 - val_accuracy: 0.7842 - val_loss: 0.5492\n",
            "Epoch 7/10\n",
            "\u001b[1m366/366\u001b[0m \u001b[32m━━━━━━━━━━━━━━━━━━━━\u001b[0m\u001b[37m\u001b[0m \u001b[1m67s\u001b[0m 182ms/step - accuracy: 0.7866 - loss: 0.5349 - val_accuracy: 0.7821 - val_loss: 0.5230\n",
            "Epoch 8/10\n",
            "\u001b[1m366/366\u001b[0m \u001b[32m━━━━━━━━━━━━━━━━━━━━\u001b[0m\u001b[37m\u001b[0m \u001b[1m66s\u001b[0m 181ms/step - accuracy: 0.8028 - loss: 0.5011 - val_accuracy: 0.7913 - val_loss: 0.5271\n",
            "Epoch 9/10\n",
            "\u001b[1m366/366\u001b[0m \u001b[32m━━━━━━━━━━━━━━━━━━━━\u001b[0m\u001b[37m\u001b[0m \u001b[1m66s\u001b[0m 180ms/step - accuracy: 0.8080 - loss: 0.4893 - val_accuracy: 0.7906 - val_loss: 0.5328\n",
            "Epoch 10/10\n",
            "\u001b[1m366/366\u001b[0m \u001b[32m━━━━━━━━━━━━━━━━━━━━\u001b[0m\u001b[37m\u001b[0m \u001b[1m66s\u001b[0m 181ms/step - accuracy: 0.8132 - loss: 0.4674 - val_accuracy: 0.7838 - val_loss: 0.5629\n"
          ]
        }
      ],
      "source": [
        "history = model.fit(X_train_vec, y_train, validation_data=(X_test_vec, y_test), epochs=10, batch_size=32)"
      ]
    },
    {
      "cell_type": "code",
      "execution_count": 30,
      "metadata": {},
      "outputs": [
        {
          "name": "stdout",
          "output_type": "stream",
          "text": [
            "\u001b[1m92/92\u001b[0m \u001b[32m━━━━━━━━━━━━━━━━━━━━\u001b[0m\u001b[37m\u001b[0m \u001b[1m4s\u001b[0m 42ms/step - accuracy: 0.7853 - loss: 0.5559\n"
          ]
        },
        {
          "data": {
            "text/plain": [
              "[0.5629016160964966, 0.7838114500045776]"
            ]
          },
          "execution_count": 30,
          "metadata": {},
          "output_type": "execute_result"
        }
      ],
      "source": [
        "model.evaluate(X_test_vec, y_test)"
      ]
    },
    {
      "cell_type": "code",
      "execution_count": 31,
      "metadata": {},
      "outputs": [],
      "source": [
        "def plot_training_history(history):\n",
        "    plt.style.use('dark_background')\n",
        "\n",
        "    accuracy = history.history.get('accuracy', [])\n",
        "    val_accuracy = history.history.get('val_accuracy', [])\n",
        "    loss = history.history.get('loss', [])\n",
        "    val_loss = history.history.get('val_loss', [])\n",
        "    epochs = range(1, len(accuracy) + 1)\n",
        "\n",
        "    fig, ax = plt.subplots(1, 2, figsize=(14, 6))\n",
        "\n",
        "    ax[0].plot(epochs, accuracy, label='Training Accuracy', color='#05ddf5', marker='o', linewidth=2)\n",
        "    ax[0].plot(epochs, val_accuracy, label='Validation Accuracy', color='#de0bc2', marker='o', linewidth=2)\n",
        "    ax[0].set_title('Training and Validation Accuracy', fontsize=14)\n",
        "    ax[0].set_xlabel('Epochs', fontsize=12)\n",
        "    ax[0].set_ylabel('Accuracy', fontsize=12)\n",
        "    ax[0].legend()\n",
        "    ax[0].grid(color='gray', linestyle='--', linewidth=0.5)\n",
        "\n",
        "    ax[1].plot(epochs, loss, label='Training Loss', color='#05ddf5', marker='o', linewidth=2)\n",
        "    ax[1].plot(epochs, val_loss, label='Validation Loss', color='#de0bc2', marker='o', linewidth=2)\n",
        "    ax[1].set_title('Training and Validation Loss', fontsize=14)\n",
        "    ax[1].set_xlabel('Epochs', fontsize=12)\n",
        "    ax[1].set_ylabel('Loss', fontsize=12)\n",
        "    ax[1].legend()\n",
        "    ax[1].grid(color='gray', linestyle='--', linewidth=0.5)\n",
        "\n",
        "    plt.tight_layout()\n",
        "    plt.show()"
      ]
    },
    {
      "cell_type": "code",
      "execution_count": 32,
      "metadata": {},
      "outputs": [
        {
          "data": {
            "image/png": "[encoded data removed]",
            "text/plain": [
              "<Figure size 1400x600 with 2 Axes>"
            ]
          },
          "metadata": {},
          "output_type": "display_data"
        }
      ],
      "source": [
        "plot_training_history(history)"
      ]
    }
  ],
  "metadata": {
    "accelerator": "GPU",
    "colab": {
      "gpuType": "T4",
      "provenance": []
    },
    "kernelspec": {
      "display_name": "Python 3",
      "language": "python",
      "name": "python3"
    },
    "language_info": {
      "codemirror_mode": {
        "name": "ipython",
        "version": 3
      },
      "file_extension": ".py",
      "mimetype": "text/x-python",
      "name": "python",
      "nbconvert_exporter": "python",
      "pygments_lexer": "ipython3",
      "version": "3.12.7"
    }
  },
  "nbformat": 4,
  "nbformat_minor": 0
}
